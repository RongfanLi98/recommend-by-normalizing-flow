{
 "cells": [
  {
   "cell_type": "code",
   "execution_count": 1,
   "metadata": {},
   "outputs": [],
   "source": [
    "import tensorflow as tf\n",
    "import numpy as np\n",
    "import matplotlib.pyplot as plt\n",
    "import math\n",
    "import time\n",
    "from tensorflow.keras.regularizers import l2\n",
    "\n",
    "from tensorflow.keras.layers import (Input, Dense, Lambda, Flatten, Reshape, BatchNormalization, \n",
    "                          Activation, Dropout, Conv2D, Conv2DTranspose,\n",
    "                          Concatenate, Add, Multiply)\n",
    "from flows import MaskingDense, IAF, MAF\n",
    "import pandas as pd\n",
    "import matplotlib.pyplot as plt"
   ]
  },
  {
   "cell_type": "code",
   "execution_count": 2,
   "metadata": {},
   "outputs": [
    {
     "ename": "NameError",
     "evalue": "name 'user_data' is not defined",
     "output_type": "error",
     "traceback": [
      "\u001b[1;31m---------------------------------------------------------------------------\u001b[0m",
      "\u001b[1;31mNameError\u001b[0m                                 Traceback (most recent call last)",
      "\u001b[1;32m<ipython-input-2-0975b8743b4e>\u001b[0m in \u001b[0;36m<module>\u001b[1;34m\u001b[0m\n\u001b[0;32m      1\u001b[0m \u001b[1;31m# 常用测试代码，勿执行勿删除\u001b[0m\u001b[1;33m\u001b[0m\u001b[1;33m\u001b[0m\u001b[1;33m\u001b[0m\u001b[0m\n\u001b[1;32m----> 2\u001b[1;33m \u001b[0mdataset\u001b[0m\u001b[1;33m=\u001b[0m\u001b[0muser_data\u001b[0m\u001b[1;33m\u001b[0m\u001b[1;33m\u001b[0m\u001b[0m\n\u001b[0m\u001b[0;32m      3\u001b[0m \u001b[0mmodel\u001b[0m \u001b[1;33m=\u001b[0m \u001b[0muser_maf\u001b[0m\u001b[1;33m\u001b[0m\u001b[1;33m\u001b[0m\u001b[0m\n\u001b[0;32m      4\u001b[0m \u001b[0mtraining_steps\u001b[0m\u001b[1;33m=\u001b[0m\u001b[1;36m5\u001b[0m\u001b[1;33m\u001b[0m\u001b[1;33m\u001b[0m\u001b[0m\n\u001b[0;32m      5\u001b[0m \u001b[0mdisplay_step\u001b[0m\u001b[1;33m=\u001b[0m\u001b[1;36m1\u001b[0m\u001b[1;33m\u001b[0m\u001b[1;33m\u001b[0m\u001b[0m\n",
      "\u001b[1;31mNameError\u001b[0m: name 'user_data' is not defined"
     ]
    }
   ],
   "source": [
    "# 常用测试代码，勿执行勿删除\n",
    "dataset=user_data\n",
    "model = user_maf\n",
    "training_steps=5\n",
    "display_step=1\n",
    "\n",
    "for step, (inputs, _y) in enumerate(dataset.take(training_steps + 1)):\n",
    "    with tf.GradientTape() as g:\n",
    "        z_k, e_0, _z_log_sigma_0, _z_sigmas = model.inference(inputs)\n",
    "        x_hat, _z_sigmas_2 = model.generation(z_k)\n",
    "            # 收敛非常快，暂时不知道原因\n",
    "        loss = model.flow_loss(inputs, x_hat, e_0, _z_log_sigma_0, _z_sigmas, z_k)\n",
    "    \n",
    "    # 提高对重建的重视程度\n",
    "    logpx_z = -model.metric(tf.keras.backend.flatten(inputs), tf.keras.backend.flatten(x_hat)) * model.original_size *5\n",
    "    \n",
    "    det = _z_log_sigma_0\n",
    "    for z_sigma in _z_sigmas:\n",
    "        det += tf.keras.backend.log(z_sigma)\n",
    "    logqz_x = -tf.keras.backend.sum(0.5 * np.log(2*math.pi) + 0.5 * e_0 ** 2 + det, axis=-1)\n",
    "    logqz_x = tf.reduce_mean(logqz_x)\n",
    "    \n",
    "    logpz = tf.reduce_mean(-tf.keras.backend.sum(0.5 * np.log(2*math.pi) + 0.5 * z_k ** 2, axis=-1))\n",
    "    # # ELBO尽量大，故减小这个式子: - [logp(x|z) + logp(z) - logq(z|x)]\n",
    "    flow_loss = -logpx_z - logpz + logqz_x\n",
    "    print(\"logpx_z:%f  logqz_x:%f   logpz:%f\"%(logpx_z, logqz_x, logpz))"
   ]
  },
  {
   "cell_type": "markdown",
   "metadata": {},
   "source": [
    "# 超参数和数据集\n",
    "\n",
    "整合全部的模型和训练内容"
   ]
  },
  {
   "cell_type": "code",
   "execution_count": 2,
   "metadata": {},
   "outputs": [],
   "source": [
    "on_server = 0\n",
    "\n",
    "# 影响最后RS的输出大小\n",
    "batch_size = 64\n",
    "# 生成的z的维度。如果要训练，则考虑选择更大的dim\n",
    "latent_dim = 64\n",
    "# maf和iaf的性能保证\n",
    "num_flow = 7\n",
    "learning_rate = 0.0005\n",
    "# 在数据预处理的时候需要\n",
    "hottest = int(math.pow(25, 2))\n",
    "num_nn = 5\n",
    "\n",
    "if on_server==1:\n",
    "    dataset_path = r\"C:\\Users\\i9233\\recommend system\\dataset\\hetrec2011-lastfm-2k\"\n",
    "    saving_path = r\"C:\\Users\\i9233\\recommend system\\recommend by normalizing flow\"\n",
    "else:\n",
    "    dataset_path = r\"E:\\MyProjects\\Dataset\\hetrec2011-lastfm-2k\"\n",
    "    saving_path = r\"E:\\MyProjects\\nf_rs\\recommend by normalizing flow\""
   ]
  },
  {
   "cell_type": "code",
   "execution_count": 3,
   "metadata": {},
   "outputs": [],
   "source": [
    "# load dataset\n",
    "user_representation_normalized = pd.read_csv(dataset_path + \"\\\\user_representation_sigmoid_128.csv\" )\n",
    "item_representation = pd.read_csv(dataset_path + \"\\\\item_representation_1_128.csv\" )\n",
    "\n",
    "dataset_len = user_representation_normalized.shape[0]\n",
    "id_list = np.arange(dataset_len) # 这里的类型是int32\n",
    "user_data = tf.data.Dataset.from_tensor_slices((tf.cast(user_representation_normalized.values, 'float32'), id_list))\n",
    "\n",
    "dataset_len = item_representation.shape[0]\n",
    "id_list = np.arange(dataset_len)\n",
    "item_data = tf.data.Dataset.from_tensor_slices((tf.cast(item_representation.values, 'float32'), id_list))\n",
    "\n",
    "user_data = user_data.repeat().batch(batch_size).prefetch(1)\n",
    "item_data = item_data.repeat().batch(batch_size).prefetch(1)"
   ]
  },
  {
   "cell_type": "code",
   "execution_count": 4,
   "metadata": {},
   "outputs": [],
   "source": [
    "def save_load(op, model, obj, model_type, hyperparameter:list, path):\n",
    "    \"\"\"\n",
    "    op, save or load\n",
    "    path, model path\n",
    "    obj, user or item\n",
    "    model, model name iaf or maf or rs\n",
    "    hyperparameter list\n",
    "    rs model 暂时缺两个超参数\n",
    "    \"\"\"\n",
    "    latent_dim, training_steps, batch_size, num_flow = hyperparameter\n",
    "    place = saving_path + \"\\\\sigmoid_BinaryCrossentropy_%d_%d_%d_%d\\\\%s_%s\\\\\" % (latent_dim, training_steps, batch_size, num_flow, obj, model_type)\n",
    "    if op == \"save\":\n",
    "        tf.saved_model.save(model, place)\n",
    "    elif op == \"load\":\n",
    "        model = tf.saved_model.load(place)\n",
    "        return model\n",
    "    else:\n",
    "        print(\"no such op\")"
   ]
  },
  {
   "cell_type": "markdown",
   "metadata": {},
   "source": [
    "# CAF的MAF部分"
   ]
  },
  {
   "cell_type": "code",
   "execution_count": 5,
   "metadata": {},
   "outputs": [],
   "source": [
    "# 训练maf\n",
    "def train_maf(maf, dataset:tf.data.Dataset, optimizer, training_steps=1000, display_step=100):\n",
    "    loss_list = []\n",
    "    for step, (inputs, _y) in enumerate(dataset.take(training_steps + 1)):\n",
    "        with tf.GradientTape() as g:\n",
    "            z_k, e_0, _z_log_sigma_0, _z_sigmas = maf.inference(inputs)\n",
    "            x_hat, _z_sigmas_2 = maf.generation(z_k)\n",
    "            # 收敛非常快，暂时不知道原因\n",
    "            loss = maf.flow_loss(inputs, x_hat, e_0, _z_log_sigma_0, _z_sigmas, z_k, 5)\n",
    "            \n",
    "        loss_list.append(loss)\n",
    "        if step % display_step == 0:\n",
    "            print(\"step: %i, loss: %f\" % (step, loss))\n",
    "        gradients = g.gradient(loss, maf.variables)\n",
    "        optimizer.apply_gradients(grads_and_vars=zip(gradients, maf.variables))\n",
    "    return loss_list"
   ]
  },
  {
   "cell_type": "code",
   "execution_count": 6,
   "metadata": {},
   "outputs": [],
   "source": [
    "user_maf = MAF(original_size=hottest, latent_dim=latent_dim, num_flow=num_flow)\n",
    "optimizer = tf.keras.optimizers.Adam(learning_rate=learning_rate)"
   ]
  },
  {
   "cell_type": "code",
   "execution_count": 7,
   "metadata": {
    "scrolled": false
   },
   "outputs": [
    {
     "name": "stdout",
     "output_type": "stream",
     "text": [
      "step: 0, loss: 1968.216675\n",
      "step: 1, loss: 1953.716919\n",
      "step: 2, loss: 1941.369873\n",
      "step: 3, loss: 1931.095825\n",
      "step: 4, loss: 1919.794434\n",
      "step: 5, loss: 1910.357666\n",
      "step: 6, loss: 1901.615234\n",
      "step: 7, loss: 1895.340820\n",
      "step: 8, loss: 1887.089111\n",
      "step: 9, loss: 1880.534180\n",
      "step: 10, loss: 1873.225098\n"
     ]
    },
    {
     "data": {
      "text/plain": [
       "<matplotlib.axes._subplots.AxesSubplot at 0x17dc1b68b48>"
      ]
     },
     "execution_count": 7,
     "metadata": {},
     "output_type": "execute_result"
    },
    {
     "data": {
      "image/png": "[encoded data removed]",
      "text/plain": [
       "<Figure size 432x288 with 1 Axes>"
      ]
     },
     "metadata": {
      "needs_background": "light"
     },
     "output_type": "display_data"
    }
   ],
   "source": [
    "# 可反复执行训练部分\n",
    "training_steps = 10\n",
    "display_step = 1\n",
    "loss_list = train_maf(user_maf, dataset=user_data, optimizer=optimizer, \n",
    "                                       training_steps=training_steps, display_step=display_step)\n",
    "\n",
    "p = pd.DataFrame(loss_list)\n",
    "p.plot()"
   ]
  },
  {
   "cell_type": "code",
   "execution_count": 8,
   "metadata": {},
   "outputs": [
    {
     "name": "stdout",
     "output_type": "stream",
     "text": [
      "WARNING:tensorflow:Skipping full serialization of Keras model <flows.MAF object at 0x0000017BF285A988>, because its inputs are not defined.\n",
      "WARNING:tensorflow:From e:\\ProgramData\\Anaconda3\\lib\\site-packages\\tensorflow_core\\python\\ops\\resource_variable_ops.py:1786: calling BaseResourceVariable.__init__ (from tensorflow.python.ops.resource_variable_ops) with constraint is deprecated and will be removed in a future version.\n",
      "Instructions for updating:\n",
      "If using Keras pass *_constraint arguments to layers.\n",
      "INFO:tensorflow:Assets written to: C:\\Users\\i9233\\recommend system\\recommend by normalizing flow\\sigmoid_BinaryCrossentropy_64_10_64_7\\user_maf\\assets\n"
     ]
    }
   ],
   "source": [
    "save_load(op='save', model=user_maf, obj='user', model_type='maf', \n",
    "          hyperparameter=[latent_dim, training_steps, batch_size, num_flow], path=saving_path)"
   ]
  },
  {
   "cell_type": "code",
   "execution_count": 9,
   "metadata": {},
   "outputs": [],
   "source": [
    "item_maf = MAF(original_size=hottest, latent_dim=latent_dim, num_flow=num_flow)\n",
    "optimizer = tf.keras.optimizers.Adam(learning_rate=learning_rate)"
   ]
  },
  {
   "cell_type": "code",
   "execution_count": 10,
   "metadata": {},
   "outputs": [
    {
     "name": "stdout",
     "output_type": "stream",
     "text": [
      "step: 0, loss: 1972.922119\n",
      "step: 1, loss: 1959.878906\n",
      "step: 2, loss: 1949.239014\n",
      "step: 3, loss: 1938.167236\n",
      "step: 4, loss: 1927.751343\n",
      "step: 5, loss: 1918.785278\n",
      "step: 6, loss: 1910.296631\n",
      "step: 7, loss: 1902.015503\n",
      "step: 8, loss: 1895.547119\n",
      "step: 9, loss: 1887.072754\n",
      "step: 10, loss: 1880.768066\n"
     ]
    },
    {
     "data": {
      "text/plain": [
       "<matplotlib.axes._subplots.AxesSubplot at 0x17e4d2c1108>"
      ]
     },
     "execution_count": 10,
     "metadata": {},
     "output_type": "execute_result"
    },
    {
     "data": {
      "image/png": "[encoded data removed]",
      "text/plain": [
       "<Figure size 432x288 with 1 Axes>"
      ]
     },
     "metadata": {
      "needs_background": "light"
     },
     "output_type": "display_data"
    }
   ],
   "source": [
    "# 可反复执行训练部分\n",
    "training_steps = 10\n",
    "display_step = 1\n",
    "loss_list = train_maf(item_maf, dataset=user_data, optimizer=optimizer, \n",
    "                                       training_steps=training_steps, display_step=display_step)\n",
    "\n",
    "p = pd.DataFrame(loss_list)\n",
    "p.plot()"
   ]
  },
  {
   "cell_type": "code",
   "execution_count": 11,
   "metadata": {},
   "outputs": [
    {
     "name": "stdout",
     "output_type": "stream",
     "text": [
      "WARNING:tensorflow:Skipping full serialization of Keras model <flows.MAF object at 0x0000017BF285A988>, because its inputs are not defined.\n",
      "INFO:tensorflow:Assets written to: C:\\Users\\i9233\\recommend system\\recommend by normalizing flow\\sigmoid_BinaryCrossentropy_64_10_64_7\\item_maf\\assets\n"
     ]
    }
   ],
   "source": [
    "save_load(op='save', model=user_maf, obj='item', model_type='maf', \n",
    "          hyperparameter=[latent_dim, training_steps, batch_size, num_flow], path=saving_path)"
   ]
  },
  {
   "cell_type": "code",
   "execution_count": 12,
   "metadata": {},
   "outputs": [],
   "source": [
    "training_steps = 10\n",
    "\n",
    "user_maf = save_load(op='load', model=None, obj='user', model_type='maf', \n",
    "          hyperparameter=[latent_dim, training_steps, batch_size, num_flow], path=saving_path)\n",
    "item_maf = save_load(op='load', model=None, obj='item', model_type='maf', \n",
    "          hyperparameter=[latent_dim, training_steps, batch_size, num_flow], path=saving_path)"
   ]
  },
  {
   "cell_type": "markdown",
   "metadata": {},
   "source": [
    "# CAF的IAF部分"
   ]
  },
  {
   "cell_type": "code",
   "execution_count": 13,
   "metadata": {},
   "outputs": [],
   "source": [
    "def train_iaf_with_trained_maf(iaf, maf, dataset:tf.data.Dataset, optimizer, training_steps=1000, display_step=100):\n",
    "    loss_list = []\n",
    "    for step, (inputs, _y) in enumerate(dataset.take(training_steps + 1)):\n",
    "        with tf.GradientTape() as g:\n",
    "            z_k, e_0, _z_log_sigma_0, _z_sigmas2 = maf.inference(inputs)\n",
    "            \n",
    "            z_k_i, e_0, _z_log_sigma_0, _z_sigmas = iaf.inference(inputs)\n",
    "            \n",
    "            x_hat, _z_sigmas = iaf.generation(z_k_i) # 不计算会说有些没有训练到，故而注释掉\n",
    "            \n",
    "            iaf_loss = iaf.flow_loss(inputs, x_hat, e_0, _z_log_sigma_0, _z_sigmas, z_k_i)\n",
    "            \n",
    "            # CAF eq 20。最后一层的sigma，代表z自身的熵 \n",
    "            H_z = tf.reduce_mean(np.log(2*math.pi * _z_sigmas[-1]))\n",
    "            # CAF eq 21。maf和iaf生成的熵\n",
    "            \n",
    "            # 交叉熵最好先做归一化，如果不归一化，这里的z的预测会急剧变成全负数。目前考虑的是用sigmoid\n",
    "            # 在正常训练中没有出现，是因为会保证其z约束在正态分布上。联合训练也会负，但是不快\n",
    "            z_k = tf.math.sigmoid(z_k)\n",
    "            z_k_i = tf.math.sigmoid(z_k_i)\n",
    "            H_maf_iaf = tf.reduce_mean(tf.keras.metrics.binary_crossentropy(z_k_i, z_k))\n",
    "            \n",
    "            loss =  H_z + H_maf_iaf + iaf_loss\n",
    "            # 使用联合训练，iaf的loss下降很快，这里可以加入和直接iaf训练的对比图。因为求导的性质，也不需要担心对各个loss的减小的性能\n",
    "            loss_list.append(iaf_loss)\n",
    "        if step % display_step == 0:\n",
    "            print(\"step: %i, H_z: %f, H_maf_iaf: %f, iaf_loss: %f\" % (step, H_z, H_maf_iaf, iaf_loss))\n",
    "        gradients = g.gradient(loss, iaf.variables)\n",
    "        optimizer.apply_gradients(grads_and_vars=zip(gradients, iaf.variables))\n",
    "    return loss_list"
   ]
  },
  {
   "cell_type": "code",
   "execution_count": 14,
   "metadata": {},
   "outputs": [],
   "source": [
    "user_iaf = IAF(original_size=hottest, latent_dim=latent_dim, num_flow=num_flow)\n",
    "optimizer = tf.keras.optimizers.Adam(learning_rate=learning_rate)"
   ]
  },
  {
   "cell_type": "code",
   "execution_count": 15,
   "metadata": {},
   "outputs": [
    {
     "name": "stdout",
     "output_type": "stream",
     "text": [
      "step: 0, H_z: 1.355810, H_maf_iaf: 0.816393, iaf_loss: 81358.359375\n",
      "step: 1, H_z: 1.357995, H_maf_iaf: 0.814382, iaf_loss: 84000.492188\n",
      "step: 2, H_z: 1.359697, H_maf_iaf: 0.814183, iaf_loss: 69192.453125\n",
      "step: 3, H_z: 1.357901, H_maf_iaf: 0.814235, iaf_loss: 57411.332031\n",
      "step: 4, H_z: 1.359175, H_maf_iaf: 0.822389, iaf_loss: 55311.339844\n",
      "step: 5, H_z: 1.361661, H_maf_iaf: 0.823431, iaf_loss: 52808.843750\n",
      "step: 6, H_z: 1.362333, H_maf_iaf: 0.826954, iaf_loss: 47063.843750\n",
      "step: 7, H_z: 1.362355, H_maf_iaf: 0.828585, iaf_loss: 42003.394531\n",
      "step: 8, H_z: 1.363824, H_maf_iaf: 0.821678, iaf_loss: 41803.183594\n",
      "step: 9, H_z: 1.363241, H_maf_iaf: 0.814809, iaf_loss: 36446.007812\n",
      "step: 10, H_z: 1.366494, H_maf_iaf: 0.816076, iaf_loss: 37204.062500\n"
     ]
    },
    {
     "data": {
      "text/plain": [
       "<matplotlib.axes._subplots.AxesSubplot at 0x17e3065d688>"
      ]
     },
     "execution_count": 15,
     "metadata": {},
     "output_type": "execute_result"
    },
    {
     "data": {
      "image/png": "[encoded data removed]",
      "text/plain": [
       "<Figure size 432x288 with 1 Axes>"
      ]
     },
     "metadata": {
      "needs_background": "light"
     },
     "output_type": "display_data"
    }
   ],
   "source": [
    "training_steps = 10\n",
    "display_step = 1\n",
    "loss_list = train_iaf_with_trained_maf(user_iaf, user_maf, dataset=user_data, optimizer=optimizer, \n",
    "                                       training_steps=training_steps, display_step=display_step)\n",
    "\n",
    "p = pd.DataFrame(loss_list)\n",
    "p.plot()"
   ]
  },
  {
   "cell_type": "code",
   "execution_count": 16,
   "metadata": {},
   "outputs": [
    {
     "name": "stdout",
     "output_type": "stream",
     "text": [
      "WARNING:tensorflow:Skipping full serialization of Keras model <flows.IAF object at 0x0000017E37C4E108>, because its inputs are not defined.\n",
      "INFO:tensorflow:Assets written to: C:\\Users\\i9233\\recommend system\\recommend by normalizing flow\\sigmoid_BinaryCrossentropy_64_10_64_7\\user_iaf\\assets\n"
     ]
    }
   ],
   "source": [
    "save_load(op='save', model=user_iaf, obj='user', model_type='iaf', \n",
    "          hyperparameter=[latent_dim, training_steps, batch_size, num_flow], path=saving_path)"
   ]
  },
  {
   "cell_type": "code",
   "execution_count": 17,
   "metadata": {},
   "outputs": [],
   "source": [
    "item_iaf = IAF(original_size=hottest, latent_dim=latent_dim, num_flow=num_flow)\n",
    "optimizer = tf.keras.optimizers.Adam(learning_rate=learning_rate)"
   ]
  },
  {
   "cell_type": "code",
   "execution_count": 18,
   "metadata": {},
   "outputs": [
    {
     "name": "stdout",
     "output_type": "stream",
     "text": [
      "step: 0, H_z: 1.343691, H_maf_iaf: 0.845704, iaf_loss: 104677.367188\n",
      "step: 1, H_z: 1.344339, H_maf_iaf: 0.849645, iaf_loss: 92473.515625\n",
      "step: 2, H_z: 1.347274, H_maf_iaf: 0.851480, iaf_loss: 90670.593750\n",
      "step: 3, H_z: 1.348047, H_maf_iaf: 0.843652, iaf_loss: 74611.171875\n",
      "step: 4, H_z: 1.347546, H_maf_iaf: 0.841159, iaf_loss: 73936.125000\n",
      "step: 5, H_z: 1.349955, H_maf_iaf: 0.840030, iaf_loss: 67207.218750\n",
      "step: 6, H_z: 1.352780, H_maf_iaf: 0.845050, iaf_loss: 62730.945312\n",
      "step: 7, H_z: 1.352724, H_maf_iaf: 0.844613, iaf_loss: 58324.601562\n",
      "step: 8, H_z: 1.354826, H_maf_iaf: 0.843256, iaf_loss: 53453.199219\n",
      "step: 9, H_z: 1.355158, H_maf_iaf: 0.845240, iaf_loss: 49371.921875\n",
      "step: 10, H_z: 1.358028, H_maf_iaf: 0.839443, iaf_loss: 51208.523438\n"
     ]
    },
    {
     "data": {
      "text/plain": [
       "<matplotlib.axes._subplots.AxesSubplot at 0x17f00f50208>"
      ]
     },
     "execution_count": 18,
     "metadata": {},
     "output_type": "execute_result"
    },
    {
     "data": {
      "image/png": "[encoded data removed]",
      "text/plain": [
       "<Figure size 432x288 with 1 Axes>"
      ]
     },
     "metadata": {
      "needs_background": "light"
     },
     "output_type": "display_data"
    }
   ],
   "source": [
    "training_steps = 10\n",
    "display_step = 1\n",
    "loss_list = train_iaf_with_trained_maf(item_iaf, item_maf, dataset=item_data, optimizer=optimizer, \n",
    "                                       training_steps=training_steps, display_step=display_step)\n",
    "\n",
    "p = pd.DataFrame(loss_list)\n",
    "p.plot()"
   ]
  },
  {
   "cell_type": "code",
   "execution_count": 19,
   "metadata": {},
   "outputs": [
    {
     "name": "stdout",
     "output_type": "stream",
     "text": [
      "WARNING:tensorflow:Skipping full serialization of Keras model <flows.IAF object at 0x0000017EA6B64548>, because its inputs are not defined.\n",
      "INFO:tensorflow:Assets written to: C:\\Users\\i9233\\recommend system\\recommend by normalizing flow\\sigmoid_BinaryCrossentropy_64_10_64_7\\item_iaf\\assets\n"
     ]
    }
   ],
   "source": [
    "save_load(op='save', model=item_iaf, obj='item', model_type='iaf', \n",
    "          hyperparameter=[latent_dim, training_steps, batch_size, num_flow], path=saving_path)"
   ]
  },
  {
   "cell_type": "code",
   "execution_count": 5,
   "metadata": {},
   "outputs": [],
   "source": [
    "training_steps = 10\n",
    "user_iaf = save_load(op='load', model=None, obj='user', model_type='iaf', \n",
    "          hyperparameter=[latent_dim, training_steps, batch_size, num_flow], path=saving_path)\n",
    "item_iaf = save_load(op='load', model=None, obj='item', model_type='iaf', \n",
    "          hyperparameter=[latent_dim, training_steps, batch_size, num_flow], path=saving_path)"
   ]
  },
  {
   "cell_type": "markdown",
   "metadata": {},
   "source": [
    "# RS部分"
   ]
  },
  {
   "cell_type": "markdown",
   "metadata": {},
   "source": [
    "这里是准备标签，标签是训练的时候决定的"
   ]
  },
  {
   "cell_type": "code",
   "execution_count": 6,
   "metadata": {},
   "outputs": [],
   "source": [
    "user_tag = pd.read_table(dataset_path + \"\\\\user_taggedartists.dat\")\n",
    "user_original_id = user_tag.drop_duplicates(subset='userID', keep='first', inplace=False).reset_index(drop=True)\n",
    "item_original_id = user_tag.drop_duplicates(subset='artistID', keep='first', inplace=False).reset_index(drop=True)\n",
    "\n",
    "user_artists = pd.read_table(dataset_path + \"\\\\user_artists.dat\")\n",
    "user_artists_grouped = user_artists.groupby('userID').groups\n",
    "\n",
    "def get_y_true(x_id, y_id, batch_size):\n",
    "    label = np.zeros(shape=(batch_size, batch_size))\n",
    "    for x in x_id.numpy():\n",
    "        x = int(x)\n",
    "        origin_user_id = user_original_id.iloc[x]['userID']\n",
    "    \n",
    "        for y in y_id.numpy():\n",
    "            y = int(y)\n",
    "            origin_item_id = item_original_id.iloc[y]['artistID']\n",
    "        \n",
    "            # 找到这个user是否有订阅这个item\n",
    "            if origin_item_id in user_artists_grouped[origin_user_id].values:\n",
    "                label[x%batch_size][y%batch_size] = 1\n",
    "    # label[x][y] 表示 user x 对 y 的兴趣程度。每次输入都是一个batch，所以label取余就可以得到正确的xy坐标\n",
    "    return label.astype(np.float32)"
   ]
  },
  {
   "cell_type": "code",
   "execution_count": 7,
   "metadata": {},
   "outputs": [],
   "source": [
    "class RS(tf.keras.Model):\n",
    "    def __init__(self, input_size, output_size=256, num_nn=4):\n",
    "        \"\"\"\n",
    "        input_size是user和item叠加在一起的形状，batch_size * 2latent_dim\n",
    "        output_size是user和item的交互信息，batch_size * batch_size\n",
    "        \"\"\"\n",
    "        super().__init__()\n",
    "        self.input_size = input_size\n",
    "        self.output_size = output_size\n",
    "        self.num_nn = num_nn\n",
    "        \n",
    "        self.dense = []\n",
    "        for i in range(self.num_nn):\n",
    "            self.dense.append(Dense(units=self.output_size, activation=tf.nn.leaky_relu))\n",
    "            \n",
    "        self.out = Dense(units=self.output_size, activation=tf.nn.leaky_relu)\n",
    "        self.act = tf.nn.sigmoid\n",
    "        # 因为weighted_cross_entropy_with_logits里面会有sigmoid\n",
    "        self.matrics = tf.nn.weighted_cross_entropy_with_logits\n",
    "        # self.matrics = tf.keras.metrics.binary_crossentropy\n",
    "    \n",
    "    @tf.function\n",
    "    def call(self, inputs): \n",
    "        # inputs is [batch_size, 2latent_dim], outputs is [batch_size, batch_size]\n",
    "        for i in range(self.num_nn):\n",
    "            inputs = self.dense[i](inputs)\n",
    "            \n",
    "        outputs = self.out(inputs)\n",
    "        \n",
    "        return outputs\n",
    "    \n",
    "    @tf.function\n",
    "    def act(self, inputs): \n",
    "        self.act(inputs)\n",
    "        return self.act(inputs)\n",
    "    \n",
    "    @tf.function\n",
    "    def RSloss(self, y_true, y_pred, pos_weight=5):\n",
    "        y_pred = tf.keras.backend.flatten(y_pred)\n",
    "        y_true = tf.keras.backend.flatten(y_true)\n",
    "        # loss = tf.keras.metrics.binary_crossentropy(y_true, y_pred)\n",
    "        # 要提高召回率，即降低将1预测0的概率，提高将1预测成1的概率。pos_weight > 1\n",
    "        loss = self.matrics(labels=y_true,logits=y_pred, pos_weight=pos_weight)\n",
    "        \n",
    "        return tf.math.reduce_mean(loss)"
   ]
  },
  {
   "cell_type": "code",
   "execution_count": 8,
   "metadata": {},
   "outputs": [],
   "source": [
    "rs = RS(input_size=latent_dim*2, output_size=batch_size, num_nn=num_nn)"
   ]
  },
  {
   "cell_type": "code",
   "execution_count": 9,
   "metadata": {},
   "outputs": [],
   "source": [
    "# 考虑手动降低学习率\n",
    "learning_rate = 0.001\n",
    "rs_steps = 1\n",
    "display_step = 1\n",
    "optimizer = tf.keras.optimizers.Adam(learning_rate=learning_rate)"
   ]
  },
  {
   "cell_type": "code",
   "execution_count": 10,
   "metadata": {},
   "outputs": [],
   "source": [
    "def train_rs(rs, user_iaf, item_iaf, user_data,item_data, optimizer, rs_steps=10):\n",
    "    a = enumerate(user_data.take(rs_steps + 1))\n",
    "    b = enumerate(item_data.take(rs_steps + 1))\n",
    "    loss_list = []\n",
    "    for ((step, i), (step,j)) in zip(a, b):\n",
    "        with tf.GradientTape() as g:\n",
    "            (user, x_id) = i\n",
    "            (item, y_id) = j\n",
    "    \n",
    "            user, e_0, _z_log_sigma_0, _z_sigmas = user_iaf.inference(user)\n",
    "            item, e_0, _z_log_sigma_0, _z_sigmas = item_iaf.inference(item)\n",
    "    \n",
    "            # 经过一番折腾得到最终的表示，batch_size * latent_dim，再叠起来得到 batch_size * 2latent_dim\n",
    "            conbine = tf.keras.backend.concatenate((user, item), axis=1)\n",
    "    \n",
    "            # 输出是 batch_size * batch_size\n",
    "            y_pred = rs.call(conbine)\n",
    "            y_pred_sigmoid = rs.act(y_pred)\n",
    "        \n",
    "            y_true = get_y_true(x_id, y_id, batch_size)\n",
    "    \n",
    "            loss = rs.RSloss(y_true, y_pred)\n",
    "        \n",
    "            loss_list.append(loss * batch_size * batch_size)\n",
    "            if step % display_step == 0:\n",
    "                print(\"step: %i, loss: %f\" % (step, loss * batch_size * batch_size))\n",
    "            \n",
    "        gradients = g.gradient(loss, rs.variables)\n",
    "        optimizer.apply_gradients(grads_and_vars=zip(gradients, rs.variables))\n",
    "    return loss_list"
   ]
  },
  {
   "cell_type": "code",
   "execution_count": 11,
   "metadata": {},
   "outputs": [
    {
     "name": "stdout",
     "output_type": "stream",
     "text": [
      "step: 0, loss: 9637.483398\n"
     ]
    },
    {
     "ename": "ResourceExhaustedError",
     "evalue": " OOM when allocating tensor with shape[640,640] and type float on /job:localhost/replica:0/task:0/device:GPU:0 by allocator GPU_0_bfc\n\t [[{{node gradients/StatefulPartitionedCall_grad/PartitionedCall/gradients/masking_dense_28_31/MatMul_2_grad/MatMul_1}}]]\nHint: If you want to see a list of allocated tensors when OOM happens, add report_tensor_allocations_upon_oom to RunOptions for current allocation info.\n [Op:__inference___backward_restored_function_body_81263_174682]\n\nFunction call stack:\n__backward_restored_function_body_81263\n",
     "output_type": "error",
     "traceback": [
      "\u001b[1;31m---------------------------------------------------------------------------\u001b[0m",
      "\u001b[1;31mResourceExhaustedError\u001b[0m                    Traceback (most recent call last)",
      "\u001b[1;32m<ipython-input-11-710b24676246>\u001b[0m in \u001b[0;36m<module>\u001b[1;34m\u001b[0m\n\u001b[0;32m      1\u001b[0m loss_list = train_rs(rs=rs, user_iaf=user_iaf, item_iaf=item_iaf, \n\u001b[1;32m----> 2\u001b[1;33m                      user_data=user_data,item_data=item_data, optimizer=optimizer, rs_steps=rs_steps)\n\u001b[0m\u001b[0;32m      3\u001b[0m \u001b[1;33m\u001b[0m\u001b[0m\n\u001b[0;32m      4\u001b[0m \u001b[0mp\u001b[0m \u001b[1;33m=\u001b[0m \u001b[0mpd\u001b[0m\u001b[1;33m.\u001b[0m\u001b[0mDataFrame\u001b[0m\u001b[1;33m(\u001b[0m\u001b[0mloss_list\u001b[0m\u001b[1;33m)\u001b[0m\u001b[1;33m\u001b[0m\u001b[1;33m\u001b[0m\u001b[0m\n\u001b[0;32m      5\u001b[0m \u001b[0mp\u001b[0m\u001b[1;33m.\u001b[0m\u001b[0mplot\u001b[0m\u001b[1;33m(\u001b[0m\u001b[1;33m)\u001b[0m\u001b[1;33m\u001b[0m\u001b[1;33m\u001b[0m\u001b[0m\n",
      "\u001b[1;32m<ipython-input-10-0a3873d698a1>\u001b[0m in \u001b[0;36mtrain_rs\u001b[1;34m(rs, user_iaf, item_iaf, user_data, item_data, optimizer, rs_steps)\u001b[0m\n\u001b[0;32m     26\u001b[0m                 \u001b[0mprint\u001b[0m\u001b[1;33m(\u001b[0m\u001b[1;34m\"step: %i, loss: %f\"\u001b[0m \u001b[1;33m%\u001b[0m \u001b[1;33m(\u001b[0m\u001b[0mstep\u001b[0m\u001b[1;33m,\u001b[0m \u001b[0mloss\u001b[0m \u001b[1;33m*\u001b[0m \u001b[0mbatch_size\u001b[0m \u001b[1;33m*\u001b[0m \u001b[0mbatch_size\u001b[0m\u001b[1;33m)\u001b[0m\u001b[1;33m)\u001b[0m\u001b[1;33m\u001b[0m\u001b[1;33m\u001b[0m\u001b[0m\n\u001b[0;32m     27\u001b[0m \u001b[1;33m\u001b[0m\u001b[0m\n\u001b[1;32m---> 28\u001b[1;33m         \u001b[0mgradients\u001b[0m \u001b[1;33m=\u001b[0m \u001b[0mg\u001b[0m\u001b[1;33m.\u001b[0m\u001b[0mgradient\u001b[0m\u001b[1;33m(\u001b[0m\u001b[0mloss\u001b[0m\u001b[1;33m,\u001b[0m \u001b[0mrs\u001b[0m\u001b[1;33m.\u001b[0m\u001b[0mvariables\u001b[0m\u001b[1;33m)\u001b[0m\u001b[1;33m\u001b[0m\u001b[1;33m\u001b[0m\u001b[0m\n\u001b[0m\u001b[0;32m     29\u001b[0m         \u001b[0moptimizer\u001b[0m\u001b[1;33m.\u001b[0m\u001b[0mapply_gradients\u001b[0m\u001b[1;33m(\u001b[0m\u001b[0mgrads_and_vars\u001b[0m\u001b[1;33m=\u001b[0m\u001b[0mzip\u001b[0m\u001b[1;33m(\u001b[0m\u001b[0mgradients\u001b[0m\u001b[1;33m,\u001b[0m \u001b[0mrs\u001b[0m\u001b[1;33m.\u001b[0m\u001b[0mvariables\u001b[0m\u001b[1;33m)\u001b[0m\u001b[1;33m)\u001b[0m\u001b[1;33m\u001b[0m\u001b[1;33m\u001b[0m\u001b[0m\n\u001b[0;32m     30\u001b[0m     \u001b[1;32mreturn\u001b[0m \u001b[0mloss_list\u001b[0m\u001b[1;33m\u001b[0m\u001b[1;33m\u001b[0m\u001b[0m\n",
      "\u001b[1;32md:\\Users\\i9233\\Anaconda3\\lib\\site-packages\\tensorflow_core\\python\\eager\\backprop.py\u001b[0m in \u001b[0;36mgradient\u001b[1;34m(self, target, sources, output_gradients, unconnected_gradients)\u001b[0m\n\u001b[0;32m   1027\u001b[0m         \u001b[0moutput_gradients\u001b[0m\u001b[1;33m=\u001b[0m\u001b[0moutput_gradients\u001b[0m\u001b[1;33m,\u001b[0m\u001b[1;33m\u001b[0m\u001b[1;33m\u001b[0m\u001b[0m\n\u001b[0;32m   1028\u001b[0m         \u001b[0msources_raw\u001b[0m\u001b[1;33m=\u001b[0m\u001b[0mflat_sources_raw\u001b[0m\u001b[1;33m,\u001b[0m\u001b[1;33m\u001b[0m\u001b[1;33m\u001b[0m\u001b[0m\n\u001b[1;32m-> 1029\u001b[1;33m         unconnected_gradients=unconnected_gradients)\n\u001b[0m\u001b[0;32m   1030\u001b[0m \u001b[1;33m\u001b[0m\u001b[0m\n\u001b[0;32m   1031\u001b[0m     \u001b[1;32mif\u001b[0m \u001b[1;32mnot\u001b[0m \u001b[0mself\u001b[0m\u001b[1;33m.\u001b[0m\u001b[0m_persistent\u001b[0m\u001b[1;33m:\u001b[0m\u001b[1;33m\u001b[0m\u001b[1;33m\u001b[0m\u001b[0m\n",
      "\u001b[1;32md:\\Users\\i9233\\Anaconda3\\lib\\site-packages\\tensorflow_core\\python\\eager\\imperative_grad.py\u001b[0m in \u001b[0;36mimperative_grad\u001b[1;34m(tape, target, sources, output_gradients, sources_raw, unconnected_gradients)\u001b[0m\n\u001b[0;32m     75\u001b[0m       \u001b[0moutput_gradients\u001b[0m\u001b[1;33m,\u001b[0m\u001b[1;33m\u001b[0m\u001b[1;33m\u001b[0m\u001b[0m\n\u001b[0;32m     76\u001b[0m       \u001b[0msources_raw\u001b[0m\u001b[1;33m,\u001b[0m\u001b[1;33m\u001b[0m\u001b[1;33m\u001b[0m\u001b[0m\n\u001b[1;32m---> 77\u001b[1;33m       compat.as_str(unconnected_gradients.value))\n\u001b[0m",
      "\u001b[1;32md:\\Users\\i9233\\Anaconda3\\lib\\site-packages\\tensorflow_core\\python\\eager\\function.py\u001b[0m in \u001b[0;36m_backward_function_wrapper\u001b[1;34m(*args)\u001b[0m\n\u001b[0;32m   1254\u001b[0m           \u001b[1;32mbreak\u001b[0m\u001b[1;33m\u001b[0m\u001b[1;33m\u001b[0m\u001b[0m\n\u001b[0;32m   1255\u001b[0m       return backward._call_flat(  # pylint: disable=protected-access\n\u001b[1;32m-> 1256\u001b[1;33m           processed_args, remapped_captures)\n\u001b[0m\u001b[0;32m   1257\u001b[0m \u001b[1;33m\u001b[0m\u001b[0m\n\u001b[0;32m   1258\u001b[0m     \u001b[1;32mreturn\u001b[0m \u001b[0m_backward_function_wrapper\u001b[0m\u001b[1;33m,\u001b[0m \u001b[0mrecorded_outputs\u001b[0m\u001b[1;33m\u001b[0m\u001b[1;33m\u001b[0m\u001b[0m\n",
      "\u001b[1;32md:\\Users\\i9233\\Anaconda3\\lib\\site-packages\\tensorflow_core\\python\\eager\\function.py\u001b[0m in \u001b[0;36m_call_flat\u001b[1;34m(self, args, captured_inputs, cancellation_manager)\u001b[0m\n\u001b[0;32m   1690\u001b[0m       \u001b[1;31m# No tape is watching; skip to running the function.\u001b[0m\u001b[1;33m\u001b[0m\u001b[1;33m\u001b[0m\u001b[1;33m\u001b[0m\u001b[0m\n\u001b[0;32m   1691\u001b[0m       return self._build_call_outputs(self._inference_function.call(\n\u001b[1;32m-> 1692\u001b[1;33m           ctx, args, cancellation_manager=cancellation_manager))\n\u001b[0m\u001b[0;32m   1693\u001b[0m     forward_backward = self._select_forward_and_backward_functions(\n\u001b[0;32m   1694\u001b[0m         \u001b[0margs\u001b[0m\u001b[1;33m,\u001b[0m\u001b[1;33m\u001b[0m\u001b[1;33m\u001b[0m\u001b[0m\n",
      "\u001b[1;32md:\\Users\\i9233\\Anaconda3\\lib\\site-packages\\tensorflow_core\\python\\eager\\function.py\u001b[0m in \u001b[0;36mcall\u001b[1;34m(self, ctx, args, cancellation_manager)\u001b[0m\n\u001b[0;32m    543\u001b[0m               \u001b[0minputs\u001b[0m\u001b[1;33m=\u001b[0m\u001b[0margs\u001b[0m\u001b[1;33m,\u001b[0m\u001b[1;33m\u001b[0m\u001b[1;33m\u001b[0m\u001b[0m\n\u001b[0;32m    544\u001b[0m               \u001b[0mattrs\u001b[0m\u001b[1;33m=\u001b[0m\u001b[1;33m(\u001b[0m\u001b[1;34m\"executor_type\"\u001b[0m\u001b[1;33m,\u001b[0m \u001b[0mexecutor_type\u001b[0m\u001b[1;33m,\u001b[0m \u001b[1;34m\"config_proto\"\u001b[0m\u001b[1;33m,\u001b[0m \u001b[0mconfig\u001b[0m\u001b[1;33m)\u001b[0m\u001b[1;33m,\u001b[0m\u001b[1;33m\u001b[0m\u001b[1;33m\u001b[0m\u001b[0m\n\u001b[1;32m--> 545\u001b[1;33m               ctx=ctx)\n\u001b[0m\u001b[0;32m    546\u001b[0m         \u001b[1;32melse\u001b[0m\u001b[1;33m:\u001b[0m\u001b[1;33m\u001b[0m\u001b[1;33m\u001b[0m\u001b[0m\n\u001b[0;32m    547\u001b[0m           outputs = execute.execute_with_cancellation(\n",
      "\u001b[1;32md:\\Users\\i9233\\Anaconda3\\lib\\site-packages\\tensorflow_core\\python\\eager\\execute.py\u001b[0m in \u001b[0;36mquick_execute\u001b[1;34m(op_name, num_outputs, inputs, attrs, ctx, name)\u001b[0m\n\u001b[0;32m     65\u001b[0m     \u001b[1;32melse\u001b[0m\u001b[1;33m:\u001b[0m\u001b[1;33m\u001b[0m\u001b[1;33m\u001b[0m\u001b[0m\n\u001b[0;32m     66\u001b[0m       \u001b[0mmessage\u001b[0m \u001b[1;33m=\u001b[0m \u001b[0me\u001b[0m\u001b[1;33m.\u001b[0m\u001b[0mmessage\u001b[0m\u001b[1;33m\u001b[0m\u001b[1;33m\u001b[0m\u001b[0m\n\u001b[1;32m---> 67\u001b[1;33m     \u001b[0msix\u001b[0m\u001b[1;33m.\u001b[0m\u001b[0mraise_from\u001b[0m\u001b[1;33m(\u001b[0m\u001b[0mcore\u001b[0m\u001b[1;33m.\u001b[0m\u001b[0m_status_to_exception\u001b[0m\u001b[1;33m(\u001b[0m\u001b[0me\u001b[0m\u001b[1;33m.\u001b[0m\u001b[0mcode\u001b[0m\u001b[1;33m,\u001b[0m \u001b[0mmessage\u001b[0m\u001b[1;33m)\u001b[0m\u001b[1;33m,\u001b[0m \u001b[1;32mNone\u001b[0m\u001b[1;33m)\u001b[0m\u001b[1;33m\u001b[0m\u001b[1;33m\u001b[0m\u001b[0m\n\u001b[0m\u001b[0;32m     68\u001b[0m   \u001b[1;32mexcept\u001b[0m \u001b[0mTypeError\u001b[0m \u001b[1;32mas\u001b[0m \u001b[0me\u001b[0m\u001b[1;33m:\u001b[0m\u001b[1;33m\u001b[0m\u001b[1;33m\u001b[0m\u001b[0m\n\u001b[0;32m     69\u001b[0m     keras_symbolic_tensors = [\n",
      "\u001b[1;32md:\\Users\\i9233\\Anaconda3\\lib\\site-packages\\six.py\u001b[0m in \u001b[0;36mraise_from\u001b[1;34m(value, from_value)\u001b[0m\n",
      "\u001b[1;31mResourceExhaustedError\u001b[0m:  OOM when allocating tensor with shape[640,640] and type float on /job:localhost/replica:0/task:0/device:GPU:0 by allocator GPU_0_bfc\n\t [[{{node gradients/StatefulPartitionedCall_grad/PartitionedCall/gradients/masking_dense_28_31/MatMul_2_grad/MatMul_1}}]]\nHint: If you want to see a list of allocated tensors when OOM happens, add report_tensor_allocations_upon_oom to RunOptions for current allocation info.\n [Op:__inference___backward_restored_function_body_81263_174682]\n\nFunction call stack:\n__backward_restored_function_body_81263\n"
     ]
    }
   ],
   "source": [
    "loss_list = train_rs(rs=rs, user_iaf=user_iaf, item_iaf=item_iaf, \n",
    "                     user_data=user_data,item_data=item_data, optimizer=optimizer, rs_steps=rs_steps)\n",
    "\n",
    "p = pd.DataFrame(loss_list)\n",
    "p.plot()"
   ]
  },
  {
   "cell_type": "code",
   "execution_count": 25,
   "metadata": {},
   "outputs": [
    {
     "name": "stdout",
     "output_type": "stream",
     "text": [
      "WARNING:tensorflow:Skipping full serialization of Keras model <__main__.RS object at 0x0000017FC41AC2C8>, because its inputs are not defined.\n",
      "INFO:tensorflow:Assets written to: C:\\Users\\i9233\\recommend system\\recommend by normalizing flow\\sigmoid_BinaryCrossentropy_64_10_64_7\\rs_rs\\assets\n"
     ]
    }
   ],
   "source": [
    "save_load(op='save', model=rs, obj='rs', model_type='rs', \n",
    "          hyperparameter=[latent_dim, training_steps, batch_size, num_flow], path=saving_path)"
   ]
  },
  {
   "cell_type": "markdown",
   "metadata": {},
   "source": [
    "真实数据太稀疏了，否则训练的label全是0\n",
    "\n",
    "1. 数据增强，将正向的数据反复进行训练\n",
    "2. 加强权重。weighted_cross_entropy_with_logits\n",
    "\n",
    "\n",
    "训练好了再用其他方法来检测推荐准确度。\n",
    "\n",
    "数据集中有联系的，基本上应该都能预测出来，但是没有的，也会预测出来，这里就涉及到了真假阳性的问题了，应该和训练时间也有关系，过拟合了就肯定有问题。"
   ]
  },
  {
   "cell_type": "markdown",
   "metadata": {},
   "source": [
    "# evaluate\n",
    "\n",
    "a>=threshold 的都是检测出来positive，y_true==1 的都是true。\n",
    "\n",
    "但是按照推荐系统的理念，P应该要更多才符合标准，即 FP 大，TP 大。反之，不能将别人认为感兴趣的标成N，即TN要小。同理，FN要大，将别人不感兴趣的标成不感兴趣的，但是实际上这个往往是最大的。\n",
    "\n",
    "FP就是需要推荐的内容。"
   ]
  },
  {
   "cell_type": "code",
   "execution_count": 29,
   "metadata": {},
   "outputs": [],
   "source": [
    "def evaluate(rs_model, training_steps, TP, FP, TN, FN, user_data, item_data, threshold=0.0001):\n",
    "    a = enumerate(user_data.take(training_steps))\n",
    "    b = enumerate(item_data.take(training_steps))\n",
    "    for ((step, i), (step,j)) in zip(a, b):\n",
    "        (user, x_id) = i\n",
    "        (item, y_id) = j\n",
    "        user, e_0, _z_log_sigma_0, _z_sigmas = user_iaf.inference(user)\n",
    "        item, e_0, _z_log_sigma_0, _z_sigmas = item_iaf.inference(item)\n",
    "        conbine = tf.keras.backend.concatenate((user, item), axis=1)\n",
    "        \n",
    "        # 输出是 batch_size * batch_size\n",
    "        y_pred = rs_model.call(conbine)\n",
    "        y_pred_sigmoid = rs_model.act(y_pred)\n",
    "        \n",
    "        y_true = get_y_true(x_id, y_id, batch_size)\n",
    "    \n",
    "        XP = y_true[y_pred_sigmoid>=threshold]  # 预测出来是 positive 的数量\n",
    "        XN = y_true[y_pred_sigmoid<threshold]  # 预测出来是 negative 的数量\n",
    "    \n",
    "        TP += np.sum(XP) # 预测出来是positive，实际上是true的数量\n",
    "        FP += XP.shape[0] - np.sum(XP)\n",
    "        TN += np.sum(XN)\n",
    "        FN += XN.shape[0] - np.sum(XN)\n",
    "    \n",
    "    return TP, FP, TN, FN"
   ]
  },
  {
   "cell_type": "code",
   "execution_count": 30,
   "metadata": {},
   "outputs": [],
   "source": [
    "threshold = 0.0001\n",
    "training_steps = 5\n",
    "\n",
    "TP = FP = TN = FN = 0"
   ]
  },
  {
   "cell_type": "code",
   "execution_count": 31,
   "metadata": {},
   "outputs": [
    {
     "name": "stdout",
     "output_type": "stream",
     "text": [
      "Precision:0.003564, Recall:1.000000, F1:0.007104\n",
      "TP:73.000000, FP:20407.000000, FN:0.000000, TN:0.000000。    参考，前三大，TN小\n"
     ]
    }
   ],
   "source": [
    "TP, FP, TN, FN = evaluate(rs, training_steps, TP, FP, TN, FN, user_data, item_data, threshold=0.0001)\n",
    "\n",
    "Precision = TP / (TP + FP)\n",
    "Recall = TP / (TP + FN)\n",
    "F1 = 2*Precision*Recall/ (Precision+Recall)\n",
    "print(\"Precision:%f, Recall:%f, F1:%f\" %(Precision, Recall, F1))\n",
    "print(\"TP:%f, FP:%f, FN:%f, TN:%f。    参考，前三大，TN小\"%(TP, FP, FN, TN))"
   ]
  },
  {
   "cell_type": "code",
   "execution_count": null,
   "metadata": {},
   "outputs": [],
   "source": []
  }
 ],
 "metadata": {
  "kernelspec": {
   "display_name": "Python 3",
   "language": "python",
   "name": "python3"
  },
  "language_info": {
   "codemirror_mode": {
    "name": "ipython",
    "version": 3
   },
   "file_extension": ".py",
   "mimetype": "text/x-python",
   "name": "python",
   "nbconvert_exporter": "python",
   "pygments_lexer": "ipython3",
   "version": "3.7.1"
  },
  "toc": {
   "base_numbering": 1,
   "nav_menu": {},
   "number_sections": true,
   "sideBar": true,
   "skip_h1_title": false,
   "title_cell": "Table of Contents",
   "title_sidebar": "Contents",
   "toc_cell": false,
   "toc_position": {},
   "toc_section_display": true,
   "toc_window_display": false
  }
 },
 "nbformat": 4,
 "nbformat_minor": 2
}
