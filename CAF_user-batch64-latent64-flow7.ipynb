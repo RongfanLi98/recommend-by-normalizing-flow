{
 "cells": [
  {
   "cell_type": "code",
   "execution_count": 1,
   "metadata": {},
   "outputs": [],
   "source": [
    "import tensorflow as tf\n",
    "import numpy as np\n",
    "import matplotlib.pyplot as plt\n",
    "import math\n",
    "import time\n",
    "from tensorflow.keras.regularizers import l2\n",
    "\n",
    "from tensorflow.keras.layers import (Input, Dense, Lambda, Flatten, Reshape, BatchNormalization, \n",
    "                          Activation, Dropout, Conv2D, Conv2DTranspose,\n",
    "                          Concatenate, Add, Multiply)\n",
    "from flows import MaskingDense, IAF, MAF\n",
    "import pandas as pd\n",
    "import matplotlib.pyplot as plt"
   ]
  },
  {
   "cell_type": "code",
   "execution_count": 2,
   "metadata": {},
   "outputs": [],
   "source": [
    "batch_size = 64\n",
    "# 生成的z的维度。如果要训练，则考虑选择更大的dim\n",
    "latent_dim = 32\n",
    "num_flow = 7\n",
    "learning_rate = 0.0005\n",
    "dropout = 0.1\n",
    "\n",
    "dataset_path = r\"C:\\Users\\i9233\\recommend system\\dataset\\hetrec2011-lastfm-2k\"\n",
    "hottest = int(math.pow(25, 2))"
   ]
  },
  {
   "cell_type": "code",
   "execution_count": 3,
   "metadata": {},
   "outputs": [],
   "source": [
    "user_representation_normalized = pd.read_csv(dataset_path + \"\\\\user_representation_sigmoid.csv\" )\n",
    "item_representation = pd.read_csv(dataset_path + \"\\\\item_representation_1.csv\" )"
   ]
  },
  {
   "cell_type": "code",
   "execution_count": 4,
   "metadata": {},
   "outputs": [],
   "source": [
    "dataset_len = item_representation.shape[0]\n",
    "target = np.zeros(dataset_len)\n",
    "\n",
    "train_data = tf.data.Dataset.from_tensor_slices((tf.cast(item_representation.values, 'float32'), target))\n",
    "\n",
    "train_data = train_data.repeat().batch(batch_size).prefetch(1)"
   ]
  },
  {
   "cell_type": "code",
   "execution_count": 4,
   "metadata": {},
   "outputs": [],
   "source": [
    "dataset_len = user_representation_normalized.shape[0]\n",
    "target = np.zeros(dataset_len)\n",
    "\n",
    "train_data = tf.data.Dataset.from_tensor_slices((tf.cast(user_representation_normalized.values, 'float32'), target))\n",
    "\n",
    "train_data = train_data.repeat().batch(batch_size).prefetch(1)"
   ]
  },
  {
   "cell_type": "code",
   "execution_count": 5,
   "metadata": {},
   "outputs": [],
   "source": [
    "maf = MAF(original_size=hottest, latent_dim=latent_dim, num_flow=num_flow)\n",
    "optimizer = tf.keras.optimizers.Adam(learning_rate=learning_rate)"
   ]
  },
  {
   "cell_type": "code",
   "execution_count": 6,
   "metadata": {},
   "outputs": [],
   "source": [
    "# 训练maf\n",
    "def train_maf(maf, dataset:tf.data.Dataset, optimizer, training_steps=1000, display_step=100):\n",
    "    loss_list = []\n",
    "    for step, (inputs, _y) in enumerate(dataset.take(training_steps + 1)):\n",
    "        with tf.GradientTape() as g:\n",
    "            z_k, e_0, _z_log_sigma_0, _z_sigmas = maf.inference(inputs)\n",
    "            x_hat, _z_sigmas_2 = maf.generation(z_k)\n",
    "            # 收敛非常快，暂时不知道原因\n",
    "            loss = maf.flow_loss(inputs, x_hat, e_0, _z_log_sigma_0, _z_sigmas, z_k)\n",
    "            \n",
    "        loss_list.append(loss)\n",
    "        if step % display_step == 0:\n",
    "            print(\"step: %i, loss: %f\" % (step, loss))\n",
    "        gradients = g.gradient(loss, maf.variables)\n",
    "        optimizer.apply_gradients(grads_and_vars=zip(gradients, maf.variables))\n",
    "    return loss_list"
   ]
  },
  {
   "cell_type": "code",
   "execution_count": 7,
   "metadata": {
    "scrolled": true
   },
   "outputs": [
    {
     "name": "stdout",
     "output_type": "stream",
     "text": [
      "step: 0, loss: 322.219666\n",
      "step: 10, loss: 280.232117\n",
      "step: 20, loss: 255.898224\n",
      "step: 30, loss: 239.678802\n",
      "step: 40, loss: 229.623535\n",
      "step: 50, loss: 218.406326\n"
     ]
    },
    {
     "data": {
      "text/plain": [
       "<tf.Tensor: shape=(), dtype=float32, numpy=-40.240826>"
      ]
     },
     "execution_count": 7,
     "metadata": {},
     "output_type": "execute_result"
    }
   ],
   "source": [
    "# 测试代码\n",
    "dataset=train_data\n",
    "training_steps=50\n",
    "display_step=10\n",
    "\n",
    "loss_list = []\n",
    "for step, (inputs, _y) in enumerate(dataset.take(training_steps + 1)):\n",
    "    with tf.GradientTape() as g:\n",
    "        z_k, e_0, _z_log_sigma_0, _z_sigmas = maf.inference(inputs)\n",
    "        x_hat, _z_sigmas_2 = maf.generation(z_k)\n",
    "            # 收敛非常快，暂时不知道原因\n",
    "        loss = maf.flow_loss(inputs, x_hat, e_0, _z_log_sigma_0, _z_sigmas, z_k)\n",
    "            \n",
    "    loss_list.append(loss)\n",
    "    if step % display_step == 0:\n",
    "        print(\"step: %i, loss: %f\" % (step, loss))\n",
    "    gradients = g.gradient(loss, maf.variables)\n",
    "    optimizer.apply_gradients(grads_and_vars=zip(gradients, maf.variables))\n",
    "\n",
    "    \n",
    "maf.metric(tf.keras.backend.flatten(inputs), tf.keras.backend.flatten(x_hat)) * hottest\n",
    "\n",
    "det = _z_log_sigma_0\n",
    "for z_sigma in _z_sigmas:\n",
    "    det += tf.keras.backend.log(z_sigma)\n",
    "logqz_x = -tf.keras.backend.sum(0.5 * np.log(2*math.pi) + 0.5 * e_0 ** 2 + det, axis=-1)\n",
    "\n",
    "tf.reduce_mean(logqz_x)\n",
    "\n",
    "tf.reduce_mean(-tf.keras.backend.sum(0.5 * np.log(2*math.pi) + 0.5 * z_k ** 2, axis=-1))"
   ]
  },
  {
   "cell_type": "code",
   "execution_count": 9,
   "metadata": {},
   "outputs": [
    {
     "data": {
      "text/plain": [
       "<tf.Tensor: shape=(), dtype=float32, numpy=436.282>"
      ]
     },
     "execution_count": 9,
     "metadata": {},
     "output_type": "execute_result"
    }
   ],
   "source": [
    "maf.metric(tf.keras.backend.flatten(inputs), tf.keras.backend.flatten(x_hat)) * hottest\n"
   ]
  },
  {
   "cell_type": "code",
   "execution_count": 8,
   "metadata": {},
   "outputs": [
    {
     "data": {
      "text/plain": [
       "<tf.Tensor: shape=(), dtype=float32, numpy=-258.11652>"
      ]
     },
     "execution_count": 8,
     "metadata": {},
     "output_type": "execute_result"
    }
   ],
   "source": [
    "tf.reduce_mean(logqz_x)"
   ]
  },
  {
   "cell_type": "code",
   "execution_count": 10,
   "metadata": {
    "scrolled": false
   },
   "outputs": [
    {
     "name": "stdout",
     "output_type": "stream",
     "text": [
      "step: 0, loss: 218.486221\n",
      "step: 500, loss: 78.113655\n",
      "step: 1000, loss: 69.086479\n",
      "step: 1500, loss: 54.731323\n",
      "step: 2000, loss: 49.457443\n",
      "step: 2500, loss: 55.888634\n",
      "step: 3000, loss: 44.469780\n",
      "step: 3500, loss: 40.119617\n",
      "step: 4000, loss: 46.034798\n",
      "step: 4500, loss: 41.192390\n",
      "step: 5000, loss: 50.416969\n"
     ]
    },
    {
     "data": {
      "text/plain": [
       "<matplotlib.axes._subplots.AxesSubplot at 0x22c95cf4d08>"
      ]
     },
     "execution_count": 10,
     "metadata": {},
     "output_type": "execute_result"
    },
    {
     "data": {
      "image/png": "[encoded data removed]",
      "text/plain": [
       "<Figure size 432x288 with 1 Axes>"
      ]
     },
     "metadata": {
      "needs_background": "light"
     },
     "output_type": "display_data"
    }
   ],
   "source": [
    "training_steps = 5000\n",
    "display_step = 500\n",
    "loss_list = train_maf(maf, dataset=train_data, optimizer=optimizer, \n",
    "                                       training_steps=training_steps, display_step=display_step)\n",
    "\n",
    "p = pd.DataFrame(loss_list)\n",
    "p.plot()"
   ]
  },
  {
   "cell_type": "code",
   "execution_count": 9,
   "metadata": {},
   "outputs": [
    {
     "name": "stdout",
     "output_type": "stream",
     "text": [
      "WARNING:tensorflow:Skipping full serialization of Keras model <flows.MAF object at 0x000001F74E4FB508>, because its inputs are not defined.\n",
      "WARNING:tensorflow:From e:\\ProgramData\\Anaconda3\\lib\\site-packages\\tensorflow_core\\python\\ops\\resource_variable_ops.py:1786: calling BaseResourceVariable.__init__ (from tensorflow.python.ops.resource_variable_ops) with constraint is deprecated and will be removed in a future version.\n",
      "Instructions for updating:\n",
      "If using Keras pass *_constraint arguments to layers.\n",
      "INFO:tensorflow:Assets written to: ./sigmoid_BinaryCrossentropy_64_20000_64_7/user/maf/assets\n"
     ]
    }
   ],
   "source": [
    "place = \"./sigmoid_BinaryCrossentropy_%d_%d_%d_%d/user/maf/\" % (latent_dim, training_steps, batch_size, num_flow)\n",
    "tf.saved_model.save(maf, place)"
   ]
  },
  {
   "cell_type": "code",
   "execution_count": 11,
   "metadata": {},
   "outputs": [],
   "source": [
    "place = \"./sigmoid_BinaryCrossentropy_%d_%d_%d_%d/user/maf/\" % (latent_dim, training_steps, batch_size, num_flow)\n",
    "maf = tf.saved_model.load(place)"
   ]
  },
  {
   "cell_type": "code",
   "execution_count": 10,
   "metadata": {},
   "outputs": [],
   "source": [
    "iaf = IAF(original_size=hottest, latent_dim=latent_dim, num_flow=num_flow)\n",
    "optimizer = tf.keras.optimizers.Adam(learning_rate=learning_rate)"
   ]
  },
  {
   "cell_type": "code",
   "execution_count": 11,
   "metadata": {},
   "outputs": [],
   "source": [
    "def train_iaf_with_trained_maf(iaf, maf, dataset:tf.data.Dataset, optimizer, training_steps=1000, display_step=100):\n",
    "    loss_list = []\n",
    "    for step, (inputs, _y) in enumerate(dataset.take(training_steps + 1)):\n",
    "        with tf.GradientTape() as g:\n",
    "            z_k, e_0, _z_log_sigma_0, _z_sigmas2 = maf.inference(inputs)\n",
    "            \n",
    "            z_k_i, e_0, _z_log_sigma_0, _z_sigmas = iaf.inference(inputs)\n",
    "            \n",
    "            x_hat, _z_sigmas = iaf.generation(z_k_i) # 不计算会说有些没有训练到，故而注释掉\n",
    "            \n",
    "            iaf_loss = iaf.flow_loss(inputs, x_hat, e_0, _z_log_sigma_0, _z_sigmas, z_k_i)\n",
    "            \n",
    "            # CAF eq 20。最后一层的sigma，代表z自身的熵 \n",
    "            H_z = tf.reduce_mean(np.log(2*math.pi * _z_sigmas[-1]))\n",
    "            # CAF eq 21。maf和iaf生成的熵\n",
    "            \n",
    "            # 交叉熵最好先做归一化，如果不归一化，这里的z的预测会急剧变成全负数。目前考虑的是用sigmoid\n",
    "            # 在正常训练中没有出现，是因为会保证其z约束在正态分布上。联合训练也会负，但是不快\n",
    "            z_k = tf.math.sigmoid(z_k)\n",
    "            z_k_i = tf.math.sigmoid(z_k_i)\n",
    "            H_maf_iaf = tf.reduce_mean(tf.keras.metrics.binary_crossentropy(z_k_i, z_k))\n",
    "            \n",
    "            loss =  H_z + H_maf_iaf + iaf_loss\n",
    "            # 使用联合训练，iaf的loss下降很快，这里可以加入和直接iaf训练的对比图。因为求导的性质，也不需要担心对各个loss的减小的性能\n",
    "            loss_list.append(iaf_loss)\n",
    "        if step % display_step == 0:\n",
    "            print(\"step: %i, H_z: %f, H_maf_iaf: %f, iaf_loss: %f\" % (step, H_z, H_maf_iaf, iaf_loss))\n",
    "        gradients = g.gradient(loss, iaf.variables)\n",
    "        optimizer.apply_gradients(grads_and_vars=zip(gradients, iaf.variables))\n",
    "    return loss_list"
   ]
  },
  {
   "cell_type": "code",
   "execution_count": 12,
   "metadata": {},
   "outputs": [
    {
     "name": "stdout",
     "output_type": "stream",
     "text": [
      "step: 0, H_z: 1.349517, H_maf_iaf: 0.732926, iaf_loss: 90992.515625\n",
      "step: 2000, H_z: 1.458825, H_maf_iaf: 0.731074, iaf_loss: 781.685547\n",
      "step: 4000, H_z: 1.488277, H_maf_iaf: 0.736117, iaf_loss: 741.312500\n",
      "step: 6000, H_z: 1.506351, H_maf_iaf: 0.732539, iaf_loss: 725.169006\n",
      "step: 8000, H_z: 1.515924, H_maf_iaf: 0.741241, iaf_loss: 718.549500\n",
      "step: 10000, H_z: 1.520748, H_maf_iaf: 0.737882, iaf_loss: 715.350098\n",
      "step: 12000, H_z: 1.523045, H_maf_iaf: 0.735579, iaf_loss: 713.571899\n",
      "step: 14000, H_z: 1.524007, H_maf_iaf: 0.732822, iaf_loss: 712.677612\n",
      "step: 16000, H_z: 1.524387, H_maf_iaf: 0.734222, iaf_loss: 712.322388\n",
      "step: 18000, H_z: 1.524525, H_maf_iaf: 0.735041, iaf_loss: 712.192505\n",
      "step: 20000, H_z: 1.524580, H_maf_iaf: 0.732989, iaf_loss: 712.090393\n"
     ]
    },
    {
     "data": {
      "text/plain": [
       "<matplotlib.axes._subplots.AxesSubplot at 0x1f9457b9988>"
      ]
     },
     "execution_count": 12,
     "metadata": {},
     "output_type": "execute_result"
    },
    {
     "data": {
      "image/png": "[encoded data removed]",
      "text/plain": [
       "<Figure size 432x288 with 1 Axes>"
      ]
     },
     "metadata": {
      "needs_background": "light"
     },
     "output_type": "display_data"
    }
   ],
   "source": [
    "training_steps = 20000\n",
    "display_step = 2000\n",
    "loss_list = train_iaf_with_trained_maf(iaf, maf, dataset=train_data, optimizer=optimizer, \n",
    "                                       training_steps=training_steps, display_step=display_step)\n",
    "\n",
    "p = pd.DataFrame(loss_list)\n",
    "p.plot()"
   ]
  },
  {
   "cell_type": "code",
   "execution_count": 13,
   "metadata": {},
   "outputs": [
    {
     "name": "stdout",
     "output_type": "stream",
     "text": [
      "WARNING:tensorflow:Skipping full serialization of Keras model <flows.IAF object at 0x000001F9CDAD3848>, because its inputs are not defined.\n",
      "INFO:tensorflow:Assets written to: ./sigmoid_BinaryCrossentropy_64_20000_64_7/user/iaf/assets\n"
     ]
    }
   ],
   "source": [
    "place = \"./sigmoid_BinaryCrossentropy_%d_%d_%d_%d/user/iaf/\" % (latent_dim, training_steps, batch_size, num_flow)\n",
    "\n",
    "tf.saved_model.save(iaf, place)"
   ]
  },
  {
   "cell_type": "code",
   "execution_count": null,
   "metadata": {},
   "outputs": [],
   "source": []
  }
 ],
 "metadata": {
  "kernelspec": {
   "display_name": "Python 3",
   "language": "python",
   "name": "python3"
  },
  "language_info": {
   "codemirror_mode": {
    "name": "ipython",
    "version": 3
   },
   "file_extension": ".py",
   "mimetype": "text/x-python",
   "name": "python",
   "nbconvert_exporter": "python",
   "pygments_lexer": "ipython3",
   "version": "3.7.4"
  },
  "toc": {
   "base_numbering": 1,
   "nav_menu": {},
   "number_sections": true,
   "sideBar": true,
   "skip_h1_title": false,
   "title_cell": "Table of Contents",
   "title_sidebar": "Contents",
   "toc_cell": false,
   "toc_position": {},
   "toc_section_display": true,
   "toc_window_display": false
  }
 },
 "nbformat": 4,
 "nbformat_minor": 2
}
