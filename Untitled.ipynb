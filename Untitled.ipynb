{
 "cells": [
  {
   "cell_type": "code",
   "execution_count": 1,
   "metadata": {},
   "outputs": [],
   "source": [
    "import numpy as np"
   ]
  },
  {
   "cell_type": "code",
   "execution_count": 2,
   "metadata": {},
   "outputs": [
    {
     "name": "stdout",
     "output_type": "stream",
     "text": [
      "0.006\n"
     ]
    }
   ],
   "source": [
    "size = 500\n",
    "mean = 2.5\n",
    "sigma = 2.0\n",
    "# 精确度\n",
    "j = 1\n",
    "top = 4\n",
    "bottom = 1\n",
    "\n",
    "a = np.random.standard_normal(size * 15 * 2)\n",
    "b = sigma * a + mean\n",
    "\n",
    "bigger = np.where(b>top)\n",
    "smaller = np.where(b<bottom)\n",
    "nice = np.delete(b, bigger)\n",
    "nice = np.delete(b, smaller)\n",
    "\n",
    "if nice.shape[0] < size * 15:\n",
    "    print(\"符合要求的采样太少了，重试\")\n",
    "else:\n",
    "    c = nice[0:size * 15].reshape(size,15)\n",
    "\n",
    "need = np.zeros((0))\n",
    "for l in c:\n",
    "    max_min = round(l.max()-l.min(), j)\n",
    "    need = np.append(need, max_min)\n",
    "    \n",
    "idlist = np.where(need==3.2)\n",
    "prob = len(idlist[0])/size\n",
    "print(prob)"
   ]
  },
  {
   "cell_type": "code",
   "execution_count": null,
   "metadata": {},
   "outputs": [],
   "source": []
  }
 ],
 "metadata": {
  "kernelspec": {
   "display_name": "Python 3",
   "language": "python",
   "name": "python3"
  },
  "language_info": {
   "codemirror_mode": {
    "name": "ipython",
    "version": 3
   },
   "file_extension": ".py",
   "mimetype": "text/x-python",
   "name": "python",
   "nbconvert_exporter": "python",
   "pygments_lexer": "ipython3",
   "version": "3.7.1"
  },
  "toc": {
   "base_numbering": 1,
   "nav_menu": {},
   "number_sections": true,
   "sideBar": true,
   "skip_h1_title": false,
   "title_cell": "Table of Contents",
   "title_sidebar": "Contents",
   "toc_cell": false,
   "toc_position": {},
   "toc_section_display": true,
   "toc_window_display": false
  }
 },
 "nbformat": 4,
 "nbformat_minor": 2
}
