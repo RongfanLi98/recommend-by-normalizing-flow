{
 "cells": [
  {
   "cell_type": "code",
   "execution_count": 1,
   "metadata": {},
   "outputs": [],
   "source": [
    "import tensorflow as tf\n",
    "import numpy as np\n",
    "import matplotlib.pyplot as plt\n",
    "import math\n",
    "import time\n",
    "from tensorflow.keras.regularizers import l2\n",
    "\n",
    "from tensorflow.keras.layers import (Input, Dense, Lambda, Flatten, Reshape, BatchNormalization, \n",
    "                          Activation, Dropout, Conv2D, Conv2DTranspose,\n",
    "                          Concatenate, Add, Multiply)\n",
    "from flows import MaskingDense, IAF, MAF\n",
    "import pandas as pd\n",
    "import matplotlib.pyplot as plt"
   ]
  },
  {
   "cell_type": "code",
   "execution_count": 2,
   "metadata": {},
   "outputs": [],
   "source": [
    "batch_size = 256\n",
    "# 生成的z的维度。如果要训练，则考虑选择更大的dim\n",
    "latent_dim = 32\n",
    "\n",
    "learning_rate = 0.0005\n",
    "dropout = 0.1\n",
    "\n",
    "dataset_path = r\"C:\\Users\\i9233\\recommend system\\dataset\\hetrec2011-lastfm-2k\"\n",
    "hottest = int(math.pow(25, 2))"
   ]
  },
  {
   "cell_type": "code",
   "execution_count": 3,
   "metadata": {},
   "outputs": [],
   "source": [
    "user_representation_normalized = pd.read_csv(dataset_path + \"\\\\user_representation_sigmoid.csv\" )\n",
    "item_representation = pd.read_csv(dataset_path + \"\\\\item_representation.csv\" )"
   ]
  },
  {
   "cell_type": "code",
   "execution_count": 4,
   "metadata": {},
   "outputs": [],
   "source": [
    "dataset_len = user_representation_normalized.shape[0]\n",
    "target = np.zeros(dataset_len)"
   ]
  },
  {
   "cell_type": "code",
   "execution_count": 5,
   "metadata": {},
   "outputs": [],
   "source": [
    "train_data = tf.data.Dataset.from_tensor_slices((tf.cast(user_representation_normalized.values, 'float32'), target))\n",
    "\n",
    "train_data = train_data.repeat().batch(batch_size).prefetch(1)"
   ]
  },
  {
   "cell_type": "code",
   "execution_count": 6,
   "metadata": {},
   "outputs": [],
   "source": [
    "maf = MAF(original_size=hottest, latent_dim=latent_dim, num_flow=5)\n",
    "optimizer = tf.keras.optimizers.Adam(learning_rate=learning_rate)"
   ]
  },
  {
   "cell_type": "code",
   "execution_count": 7,
   "metadata": {},
   "outputs": [],
   "source": [
    "# 训练maf\n",
    "def train_maf(maf, dataset:tf.data.Dataset, optimizer, training_steps=1000, display_step=100):\n",
    "    loss_list = []\n",
    "    for step, (inputs, _y) in enumerate(dataset.take(training_steps + 1)):\n",
    "        with tf.GradientTape() as g:\n",
    "            z_k, e_0, _z_log_sigma_0, _z_sigmas = maf.inference(inputs)\n",
    "            x_hat, _z_sigmas_2 = maf.generation(z_k)\n",
    "            # 收敛非常快，暂时不知道原因\n",
    "            loss = maf.flow_loss(inputs, x_hat, e_0, _z_log_sigma_0, _z_sigmas, z_k)\n",
    "            \n",
    "        loss_list.append(loss)\n",
    "        if step % display_step == 0:\n",
    "            print(\"step: %i, loss: %f\" % (step, loss))\n",
    "        gradients = g.gradient(loss, maf.variables)\n",
    "        optimizer.apply_gradients(grads_and_vars=zip(gradients, maf.variables))\n",
    "    return loss_list"
   ]
  },
  {
   "cell_type": "code",
   "execution_count": 8,
   "metadata": {
    "scrolled": false
   },
   "outputs": [
    {
     "name": "stdout",
     "output_type": "stream",
     "text": [
      "step: 0, loss: 403.125366\n",
      "step: 2000, loss: 308.935913\n",
      "step: 4000, loss: 307.064209\n",
      "step: 6000, loss: 306.569763\n",
      "step: 8000, loss: 306.126923\n",
      "step: 10000, loss: 305.372864\n",
      "step: 12000, loss: 305.302887\n",
      "step: 14000, loss: 305.180145\n",
      "step: 16000, loss: 305.147949\n",
      "step: 18000, loss: 305.168213\n",
      "step: 20000, loss: 305.137848\n"
     ]
    },
    {
     "data": {
      "text/plain": [
       "<matplotlib.axes._subplots.AxesSubplot at 0x137856db908>"
      ]
     },
     "execution_count": 8,
     "metadata": {},
     "output_type": "execute_result"
    },
    {
     "data": {
      "image/png": "[encoded data removed]",
      "text/plain": [
       "<Figure size 432x288 with 1 Axes>"
      ]
     },
     "metadata": {
      "needs_background": "light"
     },
     "output_type": "display_data"
    }
   ],
   "source": [
    "training_steps = 20000\n",
    "display_step = 2000\n",
    "loss_list = train_maf(maf, dataset=train_data, optimizer=optimizer, \n",
    "                                       training_steps=training_steps, display_step=display_step)\n",
    "\n",
    "p = pd.DataFrame(loss_list)\n",
    "p.plot()"
   ]
  },
  {
   "cell_type": "code",
   "execution_count": 9,
   "metadata": {},
   "outputs": [
    {
     "name": "stdout",
     "output_type": "stream",
     "text": [
      "WARNING:tensorflow:Skipping full serialization of Keras model <flows.MAF object at 0x00000135D25DBD48>, because its inputs are not defined.\n",
      "WARNING:tensorflow:From e:\\ProgramData\\Anaconda3\\lib\\site-packages\\tensorflow_core\\python\\ops\\resource_variable_ops.py:1786: calling BaseResourceVariable.__init__ (from tensorflow.python.ops.resource_variable_ops) with constraint is deprecated and will be removed in a future version.\n",
      "Instructions for updating:\n",
      "If using Keras pass *_constraint arguments to layers.\n",
      "INFO:tensorflow:Assets written to: ./models/maf/lastfm_sigmoid_BinaryCrossentropy_32_20000/assets\n"
     ]
    }
   ],
   "source": [
    "place = \"./models/maf/lastfm_sigmoid_BinaryCrossentropy_%d_%d/\" % (latent_dim, training_steps)\n",
    "tf.saved_model.save(maf, place)"
   ]
  },
  {
   "cell_type": "code",
   "execution_count": 10,
   "metadata": {},
   "outputs": [],
   "source": [
    "place = \"./models/maf/lastfm_sigmoid_BinaryCrossentropy_%d_%d/\" % (latent_dim, training_steps)\n",
    "maf = tf.saved_model.load(place)"
   ]
  },
  {
   "cell_type": "code",
   "execution_count": 11,
   "metadata": {},
   "outputs": [],
   "source": [
    "iaf = IAF(original_size=hottest, latent_dim=latent_dim)\n",
    "optimizer = tf.keras.optimizers.Adam(learning_rate=learning_rate)"
   ]
  },
  {
   "cell_type": "code",
   "execution_count": 12,
   "metadata": {},
   "outputs": [],
   "source": [
    "def train_iaf_with_trained_maf(iaf, maf, dataset:tf.data.Dataset, optimizer, training_steps=1000, display_step=100):\n",
    "    loss_list = []\n",
    "    for step, (inputs, _y) in enumerate(dataset.take(training_steps + 1)):\n",
    "        with tf.GradientTape() as g:\n",
    "            z_k, e_0, _z_log_sigma_0, _z_sigmas2 = maf.inference(inputs)\n",
    "            \n",
    "            z_k_i, e_0, _z_log_sigma_0, _z_sigmas = iaf.inference(inputs)\n",
    "            \n",
    "            x_hat, _z_sigmas = iaf.generation(z_k_i) # 不计算会说有些没有训练到，故而注释掉\n",
    "            \n",
    "            iaf_loss = iaf.flow_loss(inputs, x_hat, e_0, _z_log_sigma_0, _z_sigmas, z_k_i)\n",
    "            \n",
    "            # CAF eq 20。最后一层的sigma，代表z自身的熵 \n",
    "            H_z = tf.reduce_mean(np.log(2*math.pi * _z_sigmas[-1]))\n",
    "            # CAF eq 21。maf和iaf生成的熵\n",
    "            \n",
    "            # 交叉熵最好先做归一化，如果不归一化，这里的z的预测会急剧变成全负数。目前考虑的是用sigmoid\n",
    "            # 在正常训练中没有出现，是因为会保证其z约束在正态分布上。联合训练也会负，但是不快\n",
    "            z_k = tf.math.sigmoid(z_k)\n",
    "            z_k_i = tf.math.sigmoid(z_k_i)\n",
    "            H_maf_iaf = tf.reduce_mean(tf.keras.metrics.binary_crossentropy(z_k_i, z_k))\n",
    "            \n",
    "            loss =  H_z + H_maf_iaf + iaf_loss\n",
    "            # 使用联合训练，iaf的loss下降很快，这里可以加入和直接iaf训练的对比图。因为求导的性质，也不需要担心对各个loss的减小的性能\n",
    "            loss_list.append(iaf_loss)\n",
    "        if step % display_step == 0:\n",
    "            print(\"step: %i, H_z: %f, H_maf_iaf: %f, iaf_loss: %f\" % (step, H_z, H_maf_iaf, iaf_loss))\n",
    "        gradients = g.gradient(loss, iaf.variables)\n",
    "        optimizer.apply_gradients(grads_and_vars=zip(gradients, iaf.variables))\n",
    "    return loss_list"
   ]
  },
  {
   "cell_type": "code",
   "execution_count": 13,
   "metadata": {},
   "outputs": [
    {
     "name": "stdout",
     "output_type": "stream",
     "text": [
      "step: 0, H_z: 1.346887, H_maf_iaf: 0.812742, iaf_loss: 646.379578\n",
      "step: 2000, H_z: 1.507389, H_maf_iaf: 0.802144, iaf_loss: 474.010895\n",
      "step: 4000, H_z: 1.517445, H_maf_iaf: 0.805421, iaf_loss: 473.171906\n",
      "step: 6000, H_z: 1.521120, H_maf_iaf: 0.808984, iaf_loss: 472.908905\n",
      "step: 8000, H_z: 1.522843, H_maf_iaf: 0.804396, iaf_loss: 472.741608\n",
      "step: 10000, H_z: 1.523695, H_maf_iaf: 0.804233, iaf_loss: 472.587372\n",
      "step: 12000, H_z: 1.524178, H_maf_iaf: 0.802132, iaf_loss: 472.653076\n",
      "step: 14000, H_z: 1.524396, H_maf_iaf: 0.807201, iaf_loss: 472.582642\n",
      "step: 16000, H_z: 1.524493, H_maf_iaf: 0.806177, iaf_loss: 472.530426\n",
      "step: 18000, H_z: 1.524549, H_maf_iaf: 0.808906, iaf_loss: 472.617676\n",
      "step: 20000, H_z: 1.524583, H_maf_iaf: 0.810612, iaf_loss: 472.560852\n",
      "step: 22000, H_z: 1.524597, H_maf_iaf: 0.805693, iaf_loss: 472.640411\n",
      "step: 24000, H_z: 1.524606, H_maf_iaf: 0.800851, iaf_loss: 472.597534\n",
      "step: 26000, H_z: 1.524610, H_maf_iaf: 0.802191, iaf_loss: 472.438660\n",
      "step: 28000, H_z: 1.524613, H_maf_iaf: 0.809296, iaf_loss: 472.594727\n",
      "step: 30000, H_z: 1.524614, H_maf_iaf: 0.808634, iaf_loss: 472.569946\n",
      "step: 32000, H_z: 1.524615, H_maf_iaf: 0.805052, iaf_loss: 472.626648\n",
      "step: 34000, H_z: 1.524615, H_maf_iaf: 0.805111, iaf_loss: 472.614136\n",
      "step: 36000, H_z: 1.524615, H_maf_iaf: 0.805372, iaf_loss: 472.490356\n",
      "step: 38000, H_z: 1.524615, H_maf_iaf: 0.811465, iaf_loss: 472.594910\n",
      "step: 40000, H_z: 1.524615, H_maf_iaf: 0.804078, iaf_loss: 472.580109\n",
      "step: 42000, H_z: 1.524615, H_maf_iaf: 0.815852, iaf_loss: 472.589539\n",
      "step: 44000, H_z: 1.524615, H_maf_iaf: 0.806289, iaf_loss: 472.602478\n",
      "step: 46000, H_z: 1.524615, H_maf_iaf: 0.815898, iaf_loss: 472.545929\n",
      "step: 48000, H_z: 1.524615, H_maf_iaf: 0.804007, iaf_loss: 472.605743\n",
      "step: 50000, H_z: 1.524615, H_maf_iaf: 0.802588, iaf_loss: 472.585938\n"
     ]
    },
    {
     "data": {
      "text/plain": [
       "<matplotlib.axes._subplots.AxesSubplot at 0x13788594c48>"
      ]
     },
     "execution_count": 13,
     "metadata": {},
     "output_type": "execute_result"
    },
    {
     "data": {
      "image/png": "[encoded data removed]",
      "text/plain": [
       "<Figure size 432x288 with 1 Axes>"
      ]
     },
     "metadata": {
      "needs_background": "light"
     },
     "output_type": "display_data"
    }
   ],
   "source": [
    "training_steps = 50000\n",
    "display_step = 2000\n",
    "loss_list = train_iaf_with_trained_maf(iaf, maf, dataset=train_data, optimizer=optimizer, \n",
    "                                       training_steps=training_steps, display_step=display_step)\n",
    "\n",
    "p = pd.DataFrame(loss_list)\n",
    "p.plot()"
   ]
  },
  {
   "cell_type": "code",
   "execution_count": 14,
   "metadata": {},
   "outputs": [
    {
     "name": "stdout",
     "output_type": "stream",
     "text": [
      "WARNING:tensorflow:Skipping full serialization of Keras model <flows.IAF object at 0x000001375DBAA5C8>, because its inputs are not defined.\n",
      "INFO:tensorflow:Assets written to: ./models/iaf/lastfm_sigmoid_BinaryCrossentropy_32_50000/assets\n"
     ]
    }
   ],
   "source": [
    "place = \"./models/iaf/lastfm_sigmoid_BinaryCrossentropy_%d_%d/\" % (latent_dim, training_steps)\n",
    "tf.saved_model.save(iaf, place)"
   ]
  },
  {
   "cell_type": "code",
   "execution_count": null,
   "metadata": {},
   "outputs": [],
   "source": []
  }
 ],
 "metadata": {
  "kernelspec": {
   "display_name": "Python 3",
   "language": "python",
   "name": "python3"
  },
  "language_info": {
   "codemirror_mode": {
    "name": "ipython",
    "version": 3
   },
   "file_extension": ".py",
   "mimetype": "text/x-python",
   "name": "python",
   "nbconvert_exporter": "python",
   "pygments_lexer": "ipython3",
   "version": "3.7.4"
  },
  "toc": {
   "base_numbering": 1,
   "nav_menu": {},
   "number_sections": true,
   "sideBar": true,
   "skip_h1_title": false,
   "title_cell": "Table of Contents",
   "title_sidebar": "Contents",
   "toc_cell": false,
   "toc_position": {},
   "toc_section_display": true,
   "toc_window_display": false
  }
 },
 "nbformat": 4,
 "nbformat_minor": 2
}
