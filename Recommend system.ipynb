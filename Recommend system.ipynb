{
 "cells": [
  {
   "cell_type": "code",
   "execution_count": 1,
   "metadata": {},
   "outputs": [],
   "source": [
    "import tensorflow as tf\n",
    "import numpy as np\n",
    "import matplotlib.pyplot as plt\n",
    "import math\n",
    "import time\n",
    "from tensorflow.keras.regularizers import l2\n",
    "\n",
    "from tensorflow.keras.layers import (Input, Dense, Lambda, Flatten, Reshape, BatchNormalization, \n",
    "                          Activation, Dropout, Conv2D, Conv2DTranspose,\n",
    "                          Concatenate, Add, Multiply)\n",
    "from flows import MaskingDense, IAF, MAF\n",
    "import pandas as pd\n",
    "import matplotlib.pyplot as plt"
   ]
  },
  {
   "cell_type": "code",
   "execution_count": 4,
   "metadata": {},
   "outputs": [],
   "source": [
    "latent_dim = 64\n",
    "training_steps = 2\n",
    "batch_size = 64\n",
    "\n",
    "learning_rate = 0.0005\n",
    "\n",
    "num_flow = 7\n",
    "\n",
    "dataset_path = r\"C:\\Users\\i9233\\recommend system\\dataset\\hetrec2011-lastfm-2k\""
   ]
  },
  {
   "cell_type": "markdown",
   "metadata": {},
   "source": [
    "准备输入的数据，数据的来源见 dataset解读.和之前单独训练不同，这里同时需要user和item作为输入"
   ]
  },
  {
   "cell_type": "code",
   "execution_count": 5,
   "metadata": {},
   "outputs": [],
   "source": [
    "user_representation_normalized = pd.read_csv(dataset_path + \"\\\\user_representation_sigmoid.csv\" )\n",
    "item_representation = pd.read_csv(dataset_path + \"\\\\item_representation_1.csv\" )\n",
    "\n",
    "dataset_len = user_representation_normalized.shape[0]\n",
    "id_list = np.arange(dataset_len) # 这里的类型是int32\n",
    "user_data = tf.data.Dataset.from_tensor_slices((tf.cast(user_representation_normalized.values, 'float32'), id_list))\n",
    "\n",
    "user_data = user_data.repeat().batch(batch_size).prefetch(1)\n",
    "\n",
    "dataset_len = item_representation.shape[0]\n",
    "id_list = np.arange(dataset_len) # 这里的类型是int32\n",
    "item_data = tf.data.Dataset.from_tensor_slices((tf.cast(item_representation.values, 'float32'), id_list))\n",
    "\n",
    "item_data = item_data.repeat().batch(batch_size).prefetch(1)"
   ]
  },
  {
   "cell_type": "markdown",
   "metadata": {},
   "source": [
    "这里是准备标签，标签是训练的时候决定的"
   ]
  },
  {
   "cell_type": "code",
   "execution_count": 6,
   "metadata": {},
   "outputs": [],
   "source": [
    "user_tag = pd.read_table(dataset_path + \"\\\\user_taggedartists.dat\")\n",
    "user_original_id = user_tag.drop_duplicates(subset='userID', keep='first', inplace=False).reset_index(drop=True)\n",
    "item_original_id = user_tag.drop_duplicates(subset='artistID', keep='first', inplace=False).reset_index(drop=True)\n",
    "\n",
    "user_artists = pd.read_table(dataset_path + \"\\\\user_artists.dat\")\n",
    "user_artists_grouped = user_artists.groupby('userID').groups"
   ]
  },
  {
   "cell_type": "code",
   "execution_count": 7,
   "metadata": {
    "scrolled": true
   },
   "outputs": [],
   "source": [
    "def get_y_true(x_id, y_id, batch_size):\n",
    "    label = np.zeros(shape=(batch_size, batch_size))\n",
    "    for x in x_id.numpy():\n",
    "        origin_user_id = user_original_id.iloc[x]['userID']\n",
    "    \n",
    "        for y in y_id.numpy():\n",
    "            origin_item_id = item_original_id.iloc[y]['artistID']\n",
    "        \n",
    "            # 找到这个user是否有订阅这个item\n",
    "            if origin_item_id in user_artists_grouped[origin_user_id].values:\n",
    "                label[x%batch_size][y%batch_size] = 1\n",
    "    # label[x][y] 表示 user x 对 y 的兴趣程度。每次输入都是一个batch，所以label取余就可以得到正确的xy坐标\n",
    "    return label.astype(np.float32)"
   ]
  },
  {
   "cell_type": "code",
   "execution_count": 8,
   "metadata": {},
   "outputs": [],
   "source": [
    "class RS(tf.keras.Model):\n",
    "    def __init__(self, input_size, output_size=256, num_nn=4):\n",
    "        super().__init__()\n",
    "        self.input_size = input_size\n",
    "        self.output_size = output_size\n",
    "        self.num_nn = num_nn\n",
    "        \n",
    "        self.dense = []\n",
    "        for i in range(self.num_nn):\n",
    "            self.dense.append(Dense(units=self.output_size, activation=tf.nn.leaky_relu))\n",
    "            \n",
    "        self.out = Dense(units=self.output_size, activation=tf.nn.leaky_relu)\n",
    "        self.act = tf.nn.sigmoid\n",
    "        # 因为weighted_cross_entropy_with_logits里面会有sigmoid\n",
    "        self.matrics = tf.nn.weighted_cross_entropy_with_logits\n",
    "        # self.matrics = tf.keras.metrics.binary_crossentropy\n",
    "    \n",
    "    @tf.function\n",
    "    def call(self, inputs): \n",
    "        # inputs is [batch_size, 2latent_dim], outputs is [batch_size, batch_size]\n",
    "        for i in range(self.num_nn):\n",
    "            inputs = self.dense[i](inputs)\n",
    "            \n",
    "        outputs = self.out(inputs)\n",
    "        \n",
    "        return outputs\n",
    "    \n",
    "    @tf.function\n",
    "    def act(self, inputs): \n",
    "        self.act(inputs)\n",
    "        return self.act(inputs)\n",
    "    \n",
    "    @tf.function\n",
    "    def RSloss(self, y_true, y_pred):\n",
    "        y_pred = tf.keras.backend.flatten(y_pred)\n",
    "        y_true = tf.keras.backend.flatten(y_true)\n",
    "        # loss = tf.keras.metrics.binary_crossentropy(y_true, y_pred)\n",
    "        # 要提高召回率，即降低将1预测0的概率，提高将1预测成1的概率。pos_weight > 1\n",
    "        loss = self.matrics(labels=y_true,logits=y_pred, pos_weight=5)\n",
    "        \n",
    "        return tf.math.reduce_mean(loss)"
   ]
  },
  {
   "cell_type": "markdown",
   "metadata": {},
   "source": [
    "装入之前用CAF训练好的IAF模型，有user和item两个"
   ]
  },
  {
   "cell_type": "code",
   "execution_count": 9,
   "metadata": {},
   "outputs": [],
   "source": [
    "training_steps = 20000\n",
    "place = \"./sigmoid_BinaryCrossentropy_%d_%d_%d_%d/user/iaf/\" % (latent_dim, training_steps, batch_size, num_flow)\n",
    "user_inference = tf.saved_model.load(place)\n",
    "place = \"./sigmoid_BinaryCrossentropy_%d_%d_%d_%d/item/iaf/\" % (latent_dim, training_steps, batch_size, num_flow)\n",
    "item_inference = tf.saved_model.load(place)"
   ]
  },
  {
   "cell_type": "code",
   "execution_count": 10,
   "metadata": {},
   "outputs": [],
   "source": [
    "num_nn = 5\n",
    "rs = RS(input_size=latent_dim*2, output_size=batch_size, num_nn=num_nn)"
   ]
  },
  {
   "cell_type": "code",
   "execution_count": 33,
   "metadata": {},
   "outputs": [],
   "source": [
    "learning_rate = 0.0001\n",
    "training_steps = 500\n",
    "display_step = 50\n",
    "optimizer = tf.keras.optimizers.Adam(learning_rate=learning_rate)"
   ]
  },
  {
   "cell_type": "code",
   "execution_count": 34,
   "metadata": {},
   "outputs": [
    {
     "name": "stdout",
     "output_type": "stream",
     "text": [
      "step: 0, loss: 2889.604004\n",
      "step: 50, loss: 19.765724\n",
      "step: 100, loss: 19.939590\n",
      "step: 150, loss: 370.007202\n",
      "step: 200, loss: 31.866163\n",
      "step: 250, loss: 18.407688\n",
      "step: 300, loss: 422.295990\n",
      "step: 350, loss: 24.084173\n",
      "step: 400, loss: 16.551092\n",
      "step: 450, loss: 8.380188\n",
      "step: 500, loss: 16.665154\n"
     ]
    },
    {
     "data": {
      "text/plain": [
       "<matplotlib.axes._subplots.AxesSubplot at 0x2153bc5d548>"
      ]
     },
     "execution_count": 34,
     "metadata": {},
     "output_type": "execute_result"
    },
    {
     "data": {
      "image/png": "[encoded data removed]",
      "text/plain": [
       "<Figure size 432x288 with 1 Axes>"
      ]
     },
     "metadata": {
      "needs_background": "light"
     },
     "output_type": "display_data"
    }
   ],
   "source": [
    "a = enumerate(user_data.take(training_steps + 1))\n",
    "b = enumerate(item_data.take(training_steps + 1))\n",
    "loss_list = []\n",
    "for ((step, i), (step,j)) in zip(a, b):\n",
    "    with tf.GradientTape() as g:\n",
    "        (user, x_id) = i\n",
    "        (item, y_id) = j\n",
    "    \n",
    "        user, e_0, _z_log_sigma_0, _z_sigmas = user_inference.inference(user)\n",
    "        item, e_0, _z_log_sigma_0, _z_sigmas = item_inference.inference(item)\n",
    "    \n",
    "        # 经过一番折腾得到最终的表示，batch_size * latent_dim，再叠起来得到 batch_size * 2latent_dim\n",
    "        conbine = tf.keras.backend.concatenate((user, item), axis=1)\n",
    "    \n",
    "        # 输出是 batch_size * batch_size\n",
    "        y_pred = rs.call(conbine)\n",
    "        y_pred_sigmoid = rs.act(y_pred)\n",
    "        \n",
    "        y_true = get_y_true(x_id, y_id, batch_size)\n",
    "    \n",
    "        loss = rs.RSloss(y_true, y_pred)\n",
    "        \n",
    "        loss = loss*batch_size*batch_size\n",
    "        loss_list.append(loss)\n",
    "        if step % display_step == 0:\n",
    "            print(\"step: %i, loss: %f\" % (step, loss))\n",
    "            \n",
    "    gradients = g.gradient(loss, rs.variables)\n",
    "    optimizer.apply_gradients(grads_and_vars=zip(gradients, rs.variables))\n",
    "    \n",
    "p = pd.DataFrame(loss_list)\n",
    "p.plot()"
   ]
  },
  {
   "cell_type": "markdown",
   "metadata": {},
   "source": [
    "真实数据太稀疏了，否则训练的label全是0\n",
    "\n",
    "1. 数据增强，将正向的数据反复进行训练\n",
    "2. 加强权重。weighted_cross_entropy_with_logits"
   ]
  },
  {
   "cell_type": "markdown",
   "metadata": {},
   "source": [
    "训练好了再用其他方法来检测推荐准确度。\n",
    "\n",
    "数据集中有联系的，基本上应该都能预测出来，但是没有的，也会预测出来，这里就涉及到了真假阳性的问题了，应该和训练时间也有关系，过拟合了就肯定有问题。"
   ]
  },
  {
   "cell_type": "code",
   "execution_count": 36,
   "metadata": {
    "scrolled": false
   },
   "outputs": [
    {
     "name": "stdout",
     "output_type": "stream",
     "text": [
      "WARNING:tensorflow:Skipping full serialization of Keras model <__main__.RS object at 0x00000213FD0CC8C8>, because its inputs are not defined.\n",
      "INFO:tensorflow:Assets written to: ./rs/5_500_64_64_7/assets\n"
     ]
    }
   ],
   "source": [
    "place = \"./rs/%d_%d_%d_%d_%d/\" % (num_nn, training_steps, latent_dim, batch_size, num_flow)\n",
    "tf.saved_model.save(rs, place)"
   ]
  },
  {
   "cell_type": "code",
   "execution_count": 37,
   "metadata": {},
   "outputs": [],
   "source": [
    "def evaluate(rs_model, training_steps, TP, FP, TN, FN, user_data, item_data, threshold=0.0001):\n",
    "    a = enumerate(user_data.take(training_steps))\n",
    "    b = enumerate(item_data.take(training_steps))\n",
    "    for ((step, i), (step,j)) in zip(a, b):\n",
    "        (user, x_id) = i\n",
    "        (item, y_id) = j\n",
    "        user, e_0, _z_log_sigma_0, _z_sigmas = user_inference.inference(user)\n",
    "        item, e_0, _z_log_sigma_0, _z_sigmas = item_inference.inference(item)\n",
    "        conbine = tf.keras.backend.concatenate((user, item), axis=1)\n",
    "        \n",
    "        # 输出是 batch_size * batch_size\n",
    "        y_pred = rs_model.call(conbine)\n",
    "        y_pred_sigmoid = rs_model.act(y_pred)\n",
    "        \n",
    "        y_true = get_y_true(x_id, y_id, batch_size)\n",
    "    \n",
    "        XP = y_true[y_pred_sigmoid>=threshold]  # 预测出来是 positive 的数量\n",
    "        XN = y_true[y_pred_sigmoid<threshold]  # 预测出来是 negative 的数量\n",
    "    \n",
    "        TP += np.sum(XP) # 预测出来是positive，实际上是true的数量\n",
    "        FP += XP.shape[0] - np.sum(XP)\n",
    "        TN += np.sum(XN)\n",
    "        FN += XN.shape[0] - np.sum(XN)\n",
    "    \n",
    "    return TP, FP, TN, FN"
   ]
  },
  {
   "cell_type": "code",
   "execution_count": 32,
   "metadata": {},
   "outputs": [],
   "source": [
    "threshold = 0.0001\n",
    "training_steps = 5\n",
    "\n",
    "TP = FP = TN = FN = 0"
   ]
  },
  {
   "cell_type": "code",
   "execution_count": 38,
   "metadata": {},
   "outputs": [
    {
     "name": "stdout",
     "output_type": "stream",
     "text": [
      "Precision:0.000512, Recall:0.002150, F1:0.000827\n",
      "TP:1703.000000, FP:3324088.000000, FN:790213.000000, TN:476.000000。    参考，前三大，TN小\n"
     ]
    }
   ],
   "source": [
    "TP, FP, TN, FN = evaluate(rs, training_steps, TP, FP, TN, FN, user_data, item_data, threshold=0.0001)\n",
    "\n",
    "Precision = TP / (TP + FP)\n",
    "Recall = TP / (TP + FN)\n",
    "F1 = 2*Precision*Recall/ (Precision+Recall)\n",
    "print(\"Precision:%f, Recall:%f, F1:%f\" %(Precision, Recall, F1))\n",
    "print(\"TP:%f, FP:%f, FN:%f, TN:%f。    参考，前三大，TN小\"%(TP, FP, FN, TN))"
   ]
  },
  {
   "cell_type": "markdown",
   "metadata": {},
   "source": [
    "a>=threshold 的都是检测出来positive，y_true==1 的都是true。\n",
    "\n",
    "但是按照推荐系统的理念，P应该要更多才符合标准，即 FP 大，TP 大。反之，不能将别人认为感兴趣的标成N，即TN要小。同理，FN要大，将别人不感兴趣的标成不感兴趣的，但是实际上这个往往是最大的。\n",
    "\n",
    "FP就是需要推荐的内容。"
   ]
  }
 ],
 "metadata": {
  "kernelspec": {
   "display_name": "Python 3",
   "language": "python",
   "name": "python3"
  },
  "language_info": {
   "codemirror_mode": {
    "name": "ipython",
    "version": 3
   },
   "file_extension": ".py",
   "mimetype": "text/x-python",
   "name": "python",
   "nbconvert_exporter": "python",
   "pygments_lexer": "ipython3",
   "version": "3.7.4"
  },
  "toc": {
   "base_numbering": 1,
   "nav_menu": {},
   "number_sections": true,
   "sideBar": true,
   "skip_h1_title": false,
   "title_cell": "Table of Contents",
   "title_sidebar": "Contents",
   "toc_cell": false,
   "toc_position": {},
   "toc_section_display": true,
   "toc_window_display": false
  }
 },
 "nbformat": 4,
 "nbformat_minor": 2
}
