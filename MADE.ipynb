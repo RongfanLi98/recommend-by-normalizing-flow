{
 "cells": [
  {
   "cell_type": "code",
   "execution_count": 1,
   "metadata": {},
   "outputs": [],
   "source": [
    "import tensorflow as tf\n",
    "import numpy as np\n",
    "import matplotlib.pyplot as plt"
   ]
  },
  {
   "cell_type": "code",
   "execution_count": 2,
   "metadata": {},
   "outputs": [],
   "source": [
    "img_rows, img_cols, img_chns = 28, 28, 1\n",
    "original_img_size = (img_rows, img_cols, img_chns)\n",
    "batch_size = 256\n",
    "epochs = 1000\n",
    "learning_rate = 0.0005\n",
    "dropout = 0.1\n",
    "\n",
    "# 8000太大了，内存不够，设置成一半\n",
    "hidden_units = 4000\n",
    "hidden_layers = 2"
   ]
  },
  {
   "cell_type": "code",
   "execution_count": 3,
   "metadata": {},
   "outputs": [
    {
     "name": "stdout",
     "output_type": "stream",
     "text": [
      "(60000, 784) (60000,)\n",
      "(10000, 784) (10000,)\n"
     ]
    }
   ],
   "source": [
    "(X_train, y_train), (X_test, y_test) = tf.keras.datasets.mnist.load_data()\n",
    "X_train, X_test = X_train.astype(np.float32), X_test.astype(np.float32)\n",
    "\n",
    "X_train = np.round(X_train.reshape(X_train.shape[0], img_rows * img_cols) / 255.)\n",
    "X_test = np.round(X_test.reshape(X_test.shape[0], img_rows * img_cols) / 255.)\n",
    "\n",
    "print(X_train.shape, y_train.shape)\n",
    "print(X_test.shape, y_test.shape)"
   ]
  },
  {
   "cell_type": "code",
   "execution_count": 4,
   "metadata": {},
   "outputs": [],
   "source": [
    "train_data = tf.data.Dataset.from_tensor_slices((X_train, y_train))\n",
    "train_data = train_data.repeat().batch(batch_size).prefetch(1)\n",
    "\n",
    "test_data = tf.data.Dataset.from_tensor_slices((X_test, y_test))\n",
    "test_data = test_data.repeat().batch(batch_size).prefetch(1)"
   ]
  },
  {
   "cell_type": "code",
   "execution_count": 5,
   "metadata": {},
   "outputs": [],
   "source": [
    "from tensorflow.keras import initializers\n",
    "from tensorflow.keras import activations\n",
    "from tensorflow.keras import regularizers\n",
    "from tensorflow.keras import constraints\n",
    "\n",
    "class MaskingDense(tf.keras.layers.Layer):\n",
    "    # 自定义的层，从keras Dense layer修改而来\n",
    "    \"\"\"\n",
    "    Arguments:\n",
    "    units: Positive integer, dimensionality of the output space.\n",
    "    activation: Activation function to use.\n",
    "      If you don't specify anything, no activation is applied\n",
    "      (ie. \"linear\" activation: `a(x) = x`).\n",
    "    use_bias: Boolean, whether the layer uses a bias vector.\n",
    "    kernel_initializer: Initializer for the `kernel` weights matrix.\n",
    "    bias_initializer: Initializer for the bias vector.\n",
    "    kernel_regularizer: Regularizer function applied to the `kernel` weights matrix.\n",
    "    bias_regularizer: Regularizer function applied to the bias vector.\n",
    "    activity_regularizer: Regularizer function applied to\n",
    "      the output of the layer (its \"activation\")..\n",
    "    kernel_constraint: Constraint function applied to\n",
    "      the `kernel` weights matrix.\n",
    "    bias_constraint: Constraint function applied to the bias vector.\n",
    "    \"\"\"\n",
    "    def __init__(self, units, out_units,\n",
    "                 hidden_layers=1,\n",
    "                 dropout_rate=0.0,\n",
    "                 random_input_order=False,\n",
    "                 activation='relu',\n",
    "                 out_activation='sigmoid',\n",
    "                 kernel_initializer='glorot_uniform',\n",
    "                 bias_initializer='zeros',\n",
    "                 kernel_regularizer=None,\n",
    "                 bias_regularizer=None,\n",
    "                 activity_regularizer=None,\n",
    "                 kernel_constraint=None,\n",
    "                 bias_constraint=None,\n",
    "                 **kwargs):\n",
    "        if 'input_shape' not in kwargs and 'input_dim' in kwargs:\n",
    "            kwargs['input_shape'] = (kwargs.pop('input_dim'),)\n",
    "        super(MaskingDense, self).__init__(**kwargs)\n",
    "        \n",
    "        self.input_sel = None\n",
    "        self.random_input_order = random_input_order\n",
    "        self.rate = min(1., max(0., dropout_rate))\n",
    "        self.kernel_sels = []\n",
    "        self.units = units\n",
    "        self.out_units = out_units\n",
    "        self.hidden_layers = hidden_layers\n",
    "        self.activation = activations.get(activation)\n",
    "        self.out_activation = activations.get(activation)\n",
    "        self.kernel_initializer = initializers.get(kernel_initializer)\n",
    "        self.bias_initializer = initializers.get(bias_initializer)\n",
    "        self.kernel_regularizer = regularizers.get(kernel_regularizer)\n",
    "        self.bias_regularizer = regularizers.get(bias_regularizer)\n",
    "        self.activity_regularizer = regularizers.get(activity_regularizer)\n",
    "        self.kernel_constraint = constraints.get(kernel_constraint)\n",
    "        self.bias_constraint = constraints.get(bias_constraint)\n",
    "        \n",
    "    def dropout_wrapper(self, inputs, training):\n",
    "        if 0. < self.rate < 1.:\n",
    "            def dropped_inputs():\n",
    "                return tf.keras.backend.dropout(inputs, self.rate, noise_shape=None, seed=None)\n",
    "            return tf.keras.backend.in_train_phase(dropped_inputs, inputs,\n",
    "                                    training=training)\n",
    "        \n",
    "        return inputs    \n",
    "    \n",
    "    def build_layer_weights(self, input_dim, units, use_bias=True):\n",
    "        # 创建 kernel 和 bias\n",
    "        kernel = self.add_weight(shape=(input_dim, units),\n",
    "                                 initializer=self.kernel_initializer,\n",
    "                                 name='kernel',\n",
    "                                 regularizer=self.kernel_regularizer,\n",
    "                                 constraint=self.kernel_constraint)\n",
    "     \n",
    "        if use_bias:\n",
    "            bias = self.add_weight(shape=(units,),\n",
    "                                   initializer=self.bias_initializer,\n",
    "                                   name='bias',\n",
    "                                   regularizer=self.bias_regularizer,\n",
    "                                   constraint=self.bias_constraint)\n",
    "        else:\n",
    "            bias = None\n",
    "        \n",
    "        return kernel, bias    \n",
    "        \n",
    "    def build_mask(self, shape, prev_sel, is_output):\n",
    "        if is_output:\n",
    "            # 最终输出的sel一定要包含全部的初始sel\n",
    "            input_sel = self.input_sel\n",
    "        else:\n",
    "            # Disallow D-1 because it would violate auto-regressive property\n",
    "            # Disallow 0 because it would just createa a constant node\n",
    "            # Disallow unconnected units by sampling min from previous layer\n",
    "            input_sel = [np.random.randint(np.min(prev_sel), shape[-1] - 2) for i in range(shape[-1])]\n",
    "            # eg，shape = 256*784, prev_sel是0-783，则input_sel是从 prev_sel最小值到784-2的随机数，有重复，但是一般端点都在里面\n",
    "            # 后层的元代表的多少号变量，是随机的。但是总是>=前层的最小变量，上不封顶\n",
    "            \n",
    "        def vals():\n",
    "            for x in range(shape[-2]):\n",
    "                for y in range(shape[-1]):\n",
    "                    if is_output:\n",
    "                        # 输出的时候，不能依赖自身，所以是<。eg，0号变量，不能依赖任何元\n",
    "                        yield 1 if prev_sel[x] < input_sel[y] else 0\n",
    "                    else:\n",
    "                        # 小的才能传递给大的。前层的x号元代表的prev_sel[x]号变量，如小于后层的y号元，则mask = 1\n",
    "                        yield 1 if prev_sel[x] <= input_sel[y] else 0\n",
    "        \n",
    "        # 假设shape是784，128.这里输出，在内循环是输出了128个，重复了784次，所以reshape后形状和要求的一样，并且和weight的顺序也匹配\n",
    "        return tf.keras.backend.constant(list(vals()), dtype='float32', shape=shape), input_sel\n",
    "        \n",
    "    def build(self, input_shape):\n",
    "        print(input_shape)\n",
    "        assert len(input_shape) >= 2\n",
    "           \n",
    "        self.kernels, self.biases = [], []\n",
    "        self.kernel_masks, self.kernel_sels = [], []\n",
    "        shape = (input_shape[-1], self.units)\n",
    "        \n",
    "        print(input_shape)\n",
    "        # 这个是全局的input_sel\n",
    "        self.input_sel = np.arange(input_shape[-1])\n",
    "        if self.random_input_order:\n",
    "            np.random.shuffle(self.input_sel)\n",
    "        prev_sel = self.input_sel\n",
    "        \n",
    "        # 如果要masking，肯定不止一层，具体情况根据输入形状来定，越大的应该越深\n",
    "        for x in range(self.hidden_layers):\n",
    "            # Hidden layer\n",
    "            kernel, bias = self.build_layer_weights(*shape)\n",
    "            self.kernels.append(kernel)\n",
    "            self.biases.append(bias)\n",
    "            \n",
    "            # Hidden layer mask\n",
    "            kernel_mask, kernel_sel = self.build_mask(shape, prev_sel, is_output=False)\n",
    "            self.kernel_masks.append(kernel_mask)\n",
    "            self.kernel_sels.append(kernel_sel)\n",
    "            \n",
    "            # 将随机出来的sel作为下次的prev_sel。\n",
    "            prev_sel = kernel_sel\n",
    "            shape = (self.units, self.units)\n",
    "\n",
    "        # Direct connection between input/output。在MADE里提出的，类似residual的方法\n",
    "        direct_shape = (input_shape[-1], self.out_units)\n",
    "        self.direct_kernel, _ = self.build_layer_weights(*direct_shape, use_bias=False)\n",
    "        self.direct_kernel_mask, self.direct_sel = self.build_mask(direct_shape, self.input_sel, is_output=True)\n",
    "        \n",
    "        # Output layer\n",
    "        out_shape = (self.units, self.out_units)\n",
    "        self.out_kernel, self.out_bias = self.build_layer_weights(*out_shape)\n",
    "        self.out_kernel_mask, self.out_sel = self.build_mask(out_shape, prev_sel, is_output=True)\n",
    "        \n",
    "        self.built = True\n",
    "\n",
    "    def call(self, inputs, training=None):\n",
    "        # Hidden layer + mask\n",
    "        output = inputs\n",
    "        for i in range(self.hidden_layers):\n",
    "            # kernel和mask等大小，进行数乘\n",
    "            weight = self.kernels[i] * self.kernel_masks[i]\n",
    "            output = tf.keras.backend.dot(output, weight)\n",
    "            output = tf.keras.backend.bias_add(output, self.biases[i])\n",
    "            output = self.activation(output)\n",
    "            output = self.dropout_wrapper(output, training)\n",
    "       \n",
    "        # Direct connection\n",
    "        direct = tf.keras.backend.dot(inputs, self.direct_kernel * self.direct_kernel_mask)\n",
    "        direct = self.dropout_wrapper(direct, training)\n",
    "        \n",
    "        # out_act(bias + (V dot M_v)h(x) + (A dot M_v)x) 因为output层是专门提出循环的，所以最后要单独再来一次\n",
    "        output = tf.keras.backend.dot(output, self.out_kernel * self.out_kernel_mask)\n",
    "        output = output + direct\n",
    "        output = tf.keras.backend.bias_add(output, self.out_bias)\n",
    "        output = self.out_activation(output)\n",
    "        \n",
    "        return output\n",
    "\n",
    "    def compute_output_shape(self, input_shape):\n",
    "        return (input_shape[0], self.out_units)"
   ]
  },
  {
   "cell_type": "code",
   "execution_count": 6,
   "metadata": {},
   "outputs": [],
   "source": [
    "def logx_loss(x, x_decoded_mean):\n",
    "    x = tf.keras.backend.flatten(x)\n",
    "    x_decoded_mean =tf.keras.backend.flatten(x_decoded_mean)\n",
    "    xent_loss = img_rows * img_cols * tf.keras.metrics.binary_crossentropy(x, x_decoded_mean)\n",
    "    return xent_loss"
   ]
  },
  {
   "cell_type": "code",
   "execution_count": 7,
   "metadata": {},
   "outputs": [],
   "source": [
    "class MADE(tf.keras.Model):\n",
    "    def __init__(self):\n",
    "        super().__init__()\n",
    "        self.masking = MaskingDense(hidden_units, img_rows * img_cols, \n",
    "                      hidden_layers=hidden_layers,\n",
    "                      dropout_rate=dropout,\n",
    "                      random_input_order=False)\n",
    "    \n",
    "    def call(self, inputs):\n",
    "        output = self.masking(inputs)\n",
    "        return output"
   ]
  },
  {
   "cell_type": "code",
   "execution_count": 8,
   "metadata": {
    "scrolled": true
   },
   "outputs": [
    {
     "name": "stdout",
     "output_type": "stream",
     "text": [
      "step: 0, loss: 967.778992\n",
      "step: 100, loss: 216.695892\n",
      "step: 200, loss: 193.024261\n",
      "step: 300, loss: 180.301239\n",
      "step: 400, loss: 171.376007\n",
      "step: 500, loss: 160.579041\n",
      "step: 600, loss: 143.558594\n",
      "step: 700, loss: 175.301239\n",
      "step: 800, loss: 134.868225\n",
      "step: 900, loss: 143.545197\n",
      "step: 1000, loss: 135.988678\n"
     ]
    }
   ],
   "source": [
    "made = MADE()\n",
    "optimizer = tf.keras.optimizers.Adam(learning_rate=learning_rate)\n",
    "training_steps = 1000\n",
    "\n",
    "for step, (x, _) in enumerate(train_data.take(training_steps + 1)):\n",
    "    with tf.GradientTape() as g:\n",
    "        y_pred = made(x)\n",
    "        loss = logx_loss(x, y_pred)\n",
    "        \n",
    "        if step % 100 == 0:\n",
    "            print(\"step: %i, loss: %f\" % (step, loss))\n",
    "    \n",
    "    gradients = g.gradient(loss, made.variables)\n",
    "\n",
    "    optimizer.apply_gradients(grads_and_vars=zip(gradients, made.variables))"
   ]
  },
  {
   "cell_type": "code",
   "execution_count": 8,
   "metadata": {
    "scrolled": false
   },
   "outputs": [
    {
     "name": "stdout",
     "output_type": "stream",
     "text": [
      "(None, 784)\n",
      "(None, 784)\n",
      "Model: \"model\"\n",
      "_________________________________________________________________\n",
      "Layer (type)                 Output Shape              Param #   \n",
      "=================================================================\n",
      "input_1 (InputLayer)         [(None, 784)]             0         \n",
      "_________________________________________________________________\n",
      "masking_dense (MaskingDense) (None, 784)               22895440  \n",
      "=================================================================\n",
      "Total params: 22,895,440\n",
      "Trainable params: 22,895,440\n",
      "Non-trainable params: 0\n",
      "_________________________________________________________________\n"
     ]
    }
   ],
   "source": [
    "# 第二种定义model的方式\n",
    "tf.keras.backend.set_learning_phase(1)\n",
    "\n",
    "inputs = tf.keras.Input(shape=(img_rows * img_cols,))\n",
    "result = MaskingDense(hidden_units, img_rows * img_cols, \n",
    "                      hidden_layers=hidden_layers,\n",
    "                      dropout_rate=dropout,\n",
    "                      random_input_order=False)(inputs)\n",
    "\n",
    "model = tf.keras.Model(inputs=inputs, outputs=result)\n",
    "\n",
    "optimizer = tf.keras.optimizers.Adam(learning_rate=learning_rate)\n",
    "model.compile(optimizer=optimizer, loss=logx_loss)\n",
    "model.summary()"
   ]
  },
  {
   "cell_type": "code",
   "execution_count": 25,
   "metadata": {},
   "outputs": [
    {
     "name": "stdout",
     "output_type": "stream",
     "text": [
      "Elapsed:  510.71358919143677\n"
     ]
    }
   ],
   "source": [
    "import time\n",
    "start = time.time()\n",
    "training_steps = 20000\n",
    "epochs = round(batch_size * training_steps / X_train.shape[0])\n",
    "\n",
    "history = model.fit(\n",
    "    X_train, X_train,\n",
    "    batch_size=batch_size,\n",
    "    epochs=epochs,\n",
    "    validation_data=(X_test, X_test),\n",
    "    verbose=0\n",
    ")\n",
    "done = time.time()\n",
    "elapsed = done - start\n",
    "print(\"Elapsed: \", elapsed)"
   ]
  },
  {
   "cell_type": "code",
   "execution_count": 26,
   "metadata": {},
   "outputs": [
    {
     "data": {
      "text/html": [
       "<div>\n",
       "<style scoped>\n",
       "    .dataframe tbody tr th:only-of-type {\n",
       "        vertical-align: middle;\n",
       "    }\n",
       "\n",
       "    .dataframe tbody tr th {\n",
       "        vertical-align: top;\n",
       "    }\n",
       "\n",
       "    .dataframe thead th {\n",
       "        text-align: right;\n",
       "    }\n",
       "</style>\n",
       "<table border=\"1\" class=\"dataframe\">\n",
       "  <thead>\n",
       "    <tr style=\"text-align: right;\">\n",
       "      <th></th>\n",
       "      <th>loss</th>\n",
       "      <th>val_loss</th>\n",
       "    </tr>\n",
       "  </thead>\n",
       "  <tbody>\n",
       "    <tr>\n",
       "      <td>count</td>\n",
       "      <td>85.000000</td>\n",
       "      <td>85.000000</td>\n",
       "    </tr>\n",
       "    <tr>\n",
       "      <td>mean</td>\n",
       "      <td>114.963765</td>\n",
       "      <td>104.938389</td>\n",
       "    </tr>\n",
       "    <tr>\n",
       "      <td>std</td>\n",
       "      <td>1.706786</td>\n",
       "      <td>2.357989</td>\n",
       "    </tr>\n",
       "    <tr>\n",
       "      <td>min</td>\n",
       "      <td>111.405769</td>\n",
       "      <td>101.251489</td>\n",
       "    </tr>\n",
       "    <tr>\n",
       "      <td>0%</td>\n",
       "      <td>111.405769</td>\n",
       "      <td>101.251489</td>\n",
       "    </tr>\n",
       "    <tr>\n",
       "      <td>25%</td>\n",
       "      <td>113.782257</td>\n",
       "      <td>103.237260</td>\n",
       "    </tr>\n",
       "    <tr>\n",
       "      <td>50%</td>\n",
       "      <td>114.888788</td>\n",
       "      <td>104.584348</td>\n",
       "    </tr>\n",
       "    <tr>\n",
       "      <td>75%</td>\n",
       "      <td>116.421789</td>\n",
       "      <td>106.575525</td>\n",
       "    </tr>\n",
       "    <tr>\n",
       "      <td>95%</td>\n",
       "      <td>117.806626</td>\n",
       "      <td>109.264047</td>\n",
       "    </tr>\n",
       "    <tr>\n",
       "      <td>99%</td>\n",
       "      <td>118.576777</td>\n",
       "      <td>111.444823</td>\n",
       "    </tr>\n",
       "    <tr>\n",
       "      <td>max</td>\n",
       "      <td>119.982032</td>\n",
       "      <td>112.842346</td>\n",
       "    </tr>\n",
       "  </tbody>\n",
       "</table>\n",
       "</div>"
      ],
      "text/plain": [
       "             loss    val_loss\n",
       "count   85.000000   85.000000\n",
       "mean   114.963765  104.938389\n",
       "std      1.706786    2.357989\n",
       "min    111.405769  101.251489\n",
       "0%     111.405769  101.251489\n",
       "25%    113.782257  103.237260\n",
       "50%    114.888788  104.584348\n",
       "75%    116.421789  106.575525\n",
       "95%    117.806626  109.264047\n",
       "99%    118.576777  111.444823\n",
       "max    119.982032  112.842346"
      ]
     },
     "metadata": {},
     "output_type": "display_data"
    },
    {
     "data": {
      "text/plain": [
       "<matplotlib.axes._subplots.AxesSubplot at 0x2c20465d550>"
      ]
     },
     "execution_count": 26,
     "metadata": {},
     "output_type": "execute_result"
    },
    {
     "data": {
      "image/png": "[encoded data removed]",
      "text/plain": [
       "<Figure size 576x432 with 1 Axes>"
      ]
     },
     "metadata": {
      "needs_background": "light"
     },
     "output_type": "display_data"
    }
   ],
   "source": [
    "import pandas as pd\n",
    "df = pd.DataFrame(history.history)\n",
    "display(df.describe(percentiles=[0.25 * i for i in range(4)] + [0.95, 0.99]))\n",
    "df.plot(figsize=(8, 6))"
   ]
  },
  {
   "cell_type": "code",
   "execution_count": 12,
   "metadata": {},
   "outputs": [],
   "source": [
    "def display_digits(X, digit_size=28, n=10):\n",
    "    figure = np.zeros((digit_size * n, digit_size * n))\n",
    "    \n",
    "    for i in range(n):\n",
    "        for j in range(n):\n",
    "            index = np.random.randint(0, X.shape[0])\n",
    "            digit = X[index].reshape(digit_size, digit_size)\n",
    "            \n",
    "            x = i * digit_size\n",
    "            y = j * digit_size\n",
    "            figure[x:x + digit_size, y:y + digit_size] = digit\n",
    "    \n",
    "    plt.figure(figsize=(n, n))\n",
    "    plt.imshow(figure, cmap='Greys_r')\n",
    "    plt.show()"
   ]
  },
  {
   "cell_type": "code",
   "execution_count": 13,
   "metadata": {},
   "outputs": [],
   "source": [
    "def gen_image(model, num_samples=10):\n",
    "    # 形状是 100 * 784\n",
    "    x_sample = np.random.rand(num_samples, img_rows * img_cols)\n",
    "    \n",
    "    # Iteratively generate each conditional pixel P(x_i | x_{1,..,i-1})\n",
    "    for i in range(0, img_rows * img_cols):\n",
    "        x_out = model.predict(x_sample)\n",
    "\n",
    "        p = np.random.rand(num_samples)\n",
    "        # 有可能这个input_sel是乱序的\n",
    "        index = model.layers[-1].input_sel[i]\n",
    "        \n",
    "        x_sample[:, index] = (x_out[:, index] > p).astype(float)\n",
    "        \n",
    "    return x_sample"
   ]
  },
  {
   "cell_type": "markdown",
   "metadata": {},
   "source": [
    "每个像素点的最终输出，是概率 $p(x_i|x_{1:i-1})$，如果大于随机数p则令，这个像素点为1，小于p则为0。\n",
    "\n",
    "拿最后一个像素举例，现在已经输出了最后一个像素依赖于前面全部像素的条件概率，为1的概率是0.01，这很符合印象，即图片的右下角基本上可以确定是黑色，那么$p(x_i|x_{1:i-1})$ < p 几乎是一定的，即在没有意外的情况下，最后一个像素就是黑色。"
   ]
  },
  {
   "cell_type": "code",
   "execution_count": 27,
   "metadata": {},
   "outputs": [
    {
     "data": {
      "image/png": "[encoded data removed]",
      "text/plain": [
       "<Figure size 504x504 with 1 Axes>"
      ]
     },
     "metadata": {
      "needs_background": "light"
     },
     "output_type": "display_data"
    },
    {
     "name": "stdout",
     "output_type": "stream",
     "text": [
      "Elapsed:  81.2599139213562\n"
     ]
    }
   ],
   "source": [
    "import time\n",
    "start = time.time()\n",
    "\n",
    "tf.keras.backend.set_learning_phase(0)\n",
    "x_sample = gen_image(model, num_samples=49)\n",
    "# x_sample = gen_image(made, num_samples=100)\n",
    "display_digits(x_sample, n=7)\n",
    "\n",
    "done = time.time()\n",
    "elapsed = done - start\n",
    "print(\"Elapsed: \", elapsed)"
   ]
  },
  {
   "cell_type": "code",
   "execution_count": null,
   "metadata": {},
   "outputs": [],
   "source": []
  }
 ],
 "metadata": {
  "kernelspec": {
   "display_name": "Python 3",
   "language": "python",
   "name": "python3"
  },
  "language_info": {
   "codemirror_mode": {
    "name": "ipython",
    "version": 3
   },
   "file_extension": ".py",
   "mimetype": "text/x-python",
   "name": "python",
   "nbconvert_exporter": "python",
   "pygments_lexer": "ipython3",
   "version": "3.7.1"
  },
  "toc": {
   "base_numbering": 1,
   "nav_menu": {},
   "number_sections": true,
   "sideBar": true,
   "skip_h1_title": false,
   "title_cell": "Table of Contents",
   "title_sidebar": "Contents",
   "toc_cell": false,
   "toc_position": {},
   "toc_section_display": true,
   "toc_window_display": false
  }
 },
 "nbformat": 4,
 "nbformat_minor": 2
}
