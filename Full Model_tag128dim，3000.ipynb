{
 "cells": [
  {
   "cell_type": "code",
   "execution_count": 1,
   "metadata": {},
   "outputs": [],
   "source": [
    "import tensorflow as tf\n",
    "import numpy as np\n",
    "import matplotlib.pyplot as plt\n",
    "import math\n",
    "import time\n",
    "from tensorflow.keras.regularizers import l2\n",
    "\n",
    "from tensorflow.keras.layers import (Input, Dense, Lambda, Flatten, Reshape, BatchNormalization, \n",
    "                          Activation, Dropout, Conv2D, Conv2DTranspose,\n",
    "                          Concatenate, Add, Multiply)\n",
    "from flows import MaskingDense, IAF, MAF\n",
    "import pandas as pd\n",
    "import matplotlib.pyplot as plt"
   ]
  },
  {
   "cell_type": "code",
   "execution_count": 2,
   "metadata": {},
   "outputs": [
    {
     "ename": "NameError",
     "evalue": "name 'user_data' is not defined",
     "output_type": "error",
     "traceback": [
      "\u001b[1;31m---------------------------------------------------------------------------\u001b[0m",
      "\u001b[1;31mNameError\u001b[0m                                 Traceback (most recent call last)",
      "\u001b[1;32m<ipython-input-2-0975b8743b4e>\u001b[0m in \u001b[0;36m<module>\u001b[1;34m\u001b[0m\n\u001b[0;32m      1\u001b[0m \u001b[1;31m# 常用测试代码，勿执行勿删除\u001b[0m\u001b[1;33m\u001b[0m\u001b[1;33m\u001b[0m\u001b[1;33m\u001b[0m\u001b[0m\n\u001b[1;32m----> 2\u001b[1;33m \u001b[0mdataset\u001b[0m\u001b[1;33m=\u001b[0m\u001b[0muser_data\u001b[0m\u001b[1;33m\u001b[0m\u001b[1;33m\u001b[0m\u001b[0m\n\u001b[0m\u001b[0;32m      3\u001b[0m \u001b[0mmodel\u001b[0m \u001b[1;33m=\u001b[0m \u001b[0muser_maf\u001b[0m\u001b[1;33m\u001b[0m\u001b[1;33m\u001b[0m\u001b[0m\n\u001b[0;32m      4\u001b[0m \u001b[0mtraining_steps\u001b[0m\u001b[1;33m=\u001b[0m\u001b[1;36m5\u001b[0m\u001b[1;33m\u001b[0m\u001b[1;33m\u001b[0m\u001b[0m\n\u001b[0;32m      5\u001b[0m \u001b[0mdisplay_step\u001b[0m\u001b[1;33m=\u001b[0m\u001b[1;36m1\u001b[0m\u001b[1;33m\u001b[0m\u001b[1;33m\u001b[0m\u001b[0m\n",
      "\u001b[1;31mNameError\u001b[0m: name 'user_data' is not defined"
     ]
    }
   ],
   "source": [
    "# 常用测试代码，勿执行勿删除\n",
    "dataset=user_data\n",
    "model = user_maf\n",
    "training_steps=5\n",
    "display_step=1\n",
    "\n",
    "for step, (inputs, _y) in enumerate(dataset.take(training_steps + 1)):\n",
    "    with tf.GradientTape() as g:\n",
    "        z_k, e_0, _z_log_sigma_0, _z_sigmas = model.inference(inputs)\n",
    "        x_hat, _z_sigmas_2 = model.generation(z_k)\n",
    "            # 收敛非常快，暂时不知道原因\n",
    "        loss = model.flow_loss(inputs, x_hat, e_0, _z_log_sigma_0, _z_sigmas, z_k)\n",
    "    \n",
    "    # 提高对重建的重视程度\n",
    "    logpx_z = -model.metric(tf.keras.backend.flatten(inputs), tf.keras.backend.flatten(x_hat)) * model.original_size *5\n",
    "    \n",
    "    det = _z_log_sigma_0\n",
    "    for z_sigma in _z_sigmas:\n",
    "        det += tf.keras.backend.log(z_sigma)\n",
    "    logqz_x = -tf.keras.backend.sum(0.5 * np.log(2*math.pi) + 0.5 * e_0 ** 2 + det, axis=-1)\n",
    "    logqz_x = tf.reduce_mean(logqz_x)\n",
    "    \n",
    "    logpz = tf.reduce_mean(-tf.keras.backend.sum(0.5 * np.log(2*math.pi) + 0.5 * z_k ** 2, axis=-1))\n",
    "    # # ELBO尽量大，故减小这个式子: - [logp(x|z) + logp(z) - logq(z|x)]\n",
    "    flow_loss = -logpx_z - logpz + logqz_x\n",
    "    print(\"logpx_z:%f  logqz_x:%f   logpz:%f\"%(logpx_z, logqz_x, logpz))"
   ]
  },
  {
   "cell_type": "markdown",
   "metadata": {},
   "source": [
    "# 超参数和数据集\n",
    "\n",
    "整合全部的模型和训练内容"
   ]
  },
  {
   "cell_type": "code",
   "execution_count": 2,
   "metadata": {},
   "outputs": [],
   "source": [
    "on_server = 1\n",
    "\n",
    "# 影响最后RS的输出大小\n",
    "batch_size = 64\n",
    "# 生成的z的维度。如果要训练，则考虑选择更大的dim\n",
    "latent_dim = 64\n",
    "# maf和iaf的性能保证\n",
    "num_flow = 7\n",
    "learning_rate = 0.0001\n",
    "# 在数据预处理的时候需要\n",
    "# hottest = int(math.pow(25, 2))\n",
    "hottest = 128\n",
    "if on_server==1:\n",
    "    dataset_path = r\"E:\\projects\\recommend system\\dataset\\hetrec2011-lastfm-2k\"\n",
    "    saving_path = r\"E:\\projects\\recommend system\\recommend by normalizing flow\"\n",
    "else:\n",
    "    dataset_path = r\"E:\\MyProjects\\Dataset\\hetrec2011-lastfm-2k\"\n",
    "    saving_path = r\"E:\\MyProjects\\nf_rs\\recommend by normalizing flow\""
   ]
  },
  {
   "cell_type": "code",
   "execution_count": 3,
   "metadata": {},
   "outputs": [],
   "source": [
    "# load dataset\n",
    "user_representation_normalized = pd.read_csv(dataset_path + \"\\\\user_representation_sigmoid_128.csv\" )\n",
    "item_representation = pd.read_csv(dataset_path + \"\\\\item_representation_1_128.csv\" )\n",
    "\n",
    "dataset_len = user_representation_normalized.shape[0]\n",
    "id_list = np.arange(dataset_len) # 这里的类型是int32\n",
    "user_data = tf.data.Dataset.from_tensor_slices((tf.cast(user_representation_normalized.values, 'float32'), id_list))\n",
    "\n",
    "dataset_len = item_representation.shape[0]\n",
    "id_list = np.arange(dataset_len)\n",
    "item_data = tf.data.Dataset.from_tensor_slices((tf.cast(item_representation.values, 'float32'), id_list))\n",
    "\n",
    "user_data = user_data.repeat().batch(batch_size).prefetch(1)\n",
    "item_data = item_data.repeat().batch(batch_size).prefetch(1)"
   ]
  },
  {
   "cell_type": "code",
   "execution_count": 4,
   "metadata": {},
   "outputs": [],
   "source": [
    "def save_load(op, model, obj, model_type, hyperparameter:list, path):\n",
    "    \"\"\"\n",
    "    op, save or load\n",
    "    path, model path\n",
    "    obj, user or item\n",
    "    model, model name iaf or maf or rs\n",
    "    hyperparameter list\n",
    "    rs model 暂时缺两个超参数\n",
    "    \"\"\"\n",
    "    latent_dim, training_steps, batch_size, num_flow = hyperparameter\n",
    "    place = saving_path + \"\\\\128dim_sigmoid_BinaryCrossentropy_%d_%d_%d_%d\\\\%s_%s\\\\\" % (latent_dim, training_steps, batch_size, num_flow, obj, model_type)\n",
    "    if op == \"save\":\n",
    "        tf.saved_model.save(model, place)\n",
    "    elif op == \"load\":\n",
    "        model = tf.saved_model.load(place)\n",
    "        return model\n",
    "    else:\n",
    "        print(\"no such op\")"
   ]
  },
  {
   "cell_type": "markdown",
   "metadata": {},
   "source": [
    "# CAF的MAF部分"
   ]
  },
  {
   "cell_type": "code",
   "execution_count": 5,
   "metadata": {},
   "outputs": [],
   "source": [
    "# 训练maf\n",
    "def train_maf(maf, dataset:tf.data.Dataset, optimizer, training_steps=1000, display_step=100):\n",
    "    loss_list = []\n",
    "    for step, (inputs, _y) in enumerate(dataset.take(training_steps + 1)):\n",
    "        with tf.GradientTape() as g:\n",
    "            z_k, e_0, _z_log_sigma_0, _z_sigmas = maf.inference(inputs)\n",
    "            x_hat, _z_sigmas_2 = maf.generation(z_k)\n",
    "            # 收敛非常快，暂时不知道原因\n",
    "            loss = maf.flow_loss(inputs, x_hat, e_0, _z_log_sigma_0, _z_sigmas, z_k, 10)\n",
    "            \n",
    "        loss_list.append(loss)\n",
    "        if step % display_step == 0:\n",
    "            print(\"step: %i, loss: %f\" % (step, loss))\n",
    "        gradients = g.gradient(loss, maf.variables)\n",
    "        optimizer.apply_gradients(grads_and_vars=zip(gradients, maf.variables))\n",
    "    return loss_list"
   ]
  },
  {
   "cell_type": "code",
   "execution_count": 6,
   "metadata": {},
   "outputs": [],
   "source": [
    "user_maf = MAF(original_size=hottest, latent_dim=latent_dim, num_flow=num_flow)\n",
    "optimizer = tf.keras.optimizers.Adam(learning_rate=learning_rate)"
   ]
  },
  {
   "cell_type": "code",
   "execution_count": 7,
   "metadata": {
    "scrolled": false
   },
   "outputs": [
    {
     "name": "stdout",
     "output_type": "stream",
     "text": [
      "step: 0, loss: 699.505615\n",
      "step: 300, loss: 400.767273\n",
      "step: 600, loss: 294.318726\n",
      "step: 900, loss: 245.649124\n",
      "step: 1200, loss: 226.784149\n",
      "step: 1500, loss: 203.396210\n",
      "step: 1800, loss: 195.192322\n",
      "step: 2100, loss: 182.670639\n",
      "step: 2400, loss: 182.746979\n",
      "step: 2700, loss: 172.880707\n",
      "step: 3000, loss: 169.447937\n"
     ]
    },
    {
     "data": {
      "text/plain": [
       "<matplotlib.axes._subplots.AxesSubplot at 0x29ed6b0b908>"
      ]
     },
     "execution_count": 7,
     "metadata": {},
     "output_type": "execute_result"
    },
    {
     "data": {
      "image/png": "[encoded data removed]",
      "text/plain": [
       "<Figure size 432x288 with 1 Axes>"
      ]
     },
     "metadata": {
      "needs_background": "light"
     },
     "output_type": "display_data"
    }
   ],
   "source": [
    "# 可反复执行训练部分\n",
    "training_steps = 3000\n",
    "display_step = 300\n",
    "loss_list = train_maf(user_maf, dataset=user_data, optimizer=optimizer, \n",
    "                                       training_steps=training_steps, display_step=display_step)\n",
    "\n",
    "p = pd.DataFrame(loss_list)\n",
    "p.plot()"
   ]
  },
  {
   "cell_type": "code",
   "execution_count": 8,
   "metadata": {},
   "outputs": [
    {
     "name": "stdout",
     "output_type": "stream",
     "text": [
      "WARNING:tensorflow:Skipping full serialization of Keras model <flows.MAF object at 0x0000029CEC3A0F08>, because its inputs are not defined.\n",
      "WARNING:tensorflow:From e:\\ProgramData\\Anaconda3\\lib\\site-packages\\tensorflow_core\\python\\ops\\resource_variable_ops.py:1786: calling BaseResourceVariable.__init__ (from tensorflow.python.ops.resource_variable_ops) with constraint is deprecated and will be removed in a future version.\n",
      "Instructions for updating:\n",
      "If using Keras pass *_constraint arguments to layers.\n",
      "INFO:tensorflow:Assets written to: E:\\projects\\recommend system\\recommend by normalizing flow\\128dim_sigmoid_BinaryCrossentropy_64_3000_64_7\\user_maf\\assets\n"
     ]
    }
   ],
   "source": [
    "save_load(op='save', model=user_maf, obj='user', model_type='maf', \n",
    "          hyperparameter=[latent_dim, training_steps, batch_size, num_flow], path=saving_path)"
   ]
  },
  {
   "cell_type": "code",
   "execution_count": 9,
   "metadata": {},
   "outputs": [],
   "source": [
    "item_maf = MAF(original_size=hottest, latent_dim=latent_dim, num_flow=num_flow)\n",
    "optimizer = tf.keras.optimizers.Adam(learning_rate=learning_rate)"
   ]
  },
  {
   "cell_type": "code",
   "execution_count": 10,
   "metadata": {},
   "outputs": [
    {
     "name": "stdout",
     "output_type": "stream",
     "text": [
      "step: 0, loss: 698.996460\n",
      "step: 300, loss: 416.788116\n",
      "step: 600, loss: 310.674347\n",
      "step: 900, loss: 260.262085\n",
      "step: 1200, loss: 234.234436\n",
      "step: 1500, loss: 219.344437\n",
      "step: 1800, loss: 209.332123\n",
      "step: 2100, loss: 192.114746\n",
      "step: 2400, loss: 185.950821\n",
      "step: 2700, loss: 177.254669\n",
      "step: 3000, loss: 172.473511\n"
     ]
    },
    {
     "data": {
      "text/plain": [
       "<matplotlib.axes._subplots.AxesSubplot at 0x29cec05c588>"
      ]
     },
     "execution_count": 10,
     "metadata": {},
     "output_type": "execute_result"
    },
    {
     "data": {
      "image/png": "[encoded data removed]",
      "text/plain": [
       "<Figure size 432x288 with 1 Axes>"
      ]
     },
     "metadata": {
      "needs_background": "light"
     },
     "output_type": "display_data"
    }
   ],
   "source": [
    "# 可反复执行训练部分\n",
    "training_steps = 3000\n",
    "display_step = 300\n",
    "loss_list = train_maf(item_maf, dataset=user_data, optimizer=optimizer, \n",
    "                                       training_steps=training_steps, display_step=display_step)\n",
    "\n",
    "p = pd.DataFrame(loss_list)\n",
    "p.plot()"
   ]
  },
  {
   "cell_type": "code",
   "execution_count": 11,
   "metadata": {},
   "outputs": [
    {
     "name": "stdout",
     "output_type": "stream",
     "text": [
      "WARNING:tensorflow:Skipping full serialization of Keras model <flows.MAF object at 0x0000029CEC3A0F08>, because its inputs are not defined.\n",
      "INFO:tensorflow:Assets written to: E:\\projects\\recommend system\\recommend by normalizing flow\\128dim_sigmoid_BinaryCrossentropy_64_3000_64_7\\item_maf\\assets\n"
     ]
    }
   ],
   "source": [
    "save_load(op='save', model=user_maf, obj='item', model_type='maf', \n",
    "          hyperparameter=[latent_dim, training_steps, batch_size, num_flow], path=saving_path)"
   ]
  },
  {
   "cell_type": "code",
   "execution_count": 12,
   "metadata": {},
   "outputs": [],
   "source": [
    "\n",
    "user_maf = save_load(op='load', model=None, obj='user', model_type='maf', \n",
    "          hyperparameter=[latent_dim, training_steps, batch_size, num_flow], path=saving_path)\n",
    "item_maf = save_load(op='load', model=None, obj='item', model_type='maf', \n",
    "          hyperparameter=[latent_dim, training_steps, batch_size, num_flow], path=saving_path)"
   ]
  },
  {
   "cell_type": "markdown",
   "metadata": {},
   "source": [
    "# CAF的IAF部分"
   ]
  },
  {
   "cell_type": "code",
   "execution_count": 12,
   "metadata": {},
   "outputs": [],
   "source": [
    "def train_iaf_with_trained_maf(iaf, maf, dataset:tf.data.Dataset, optimizer, training_steps=1000, display_step=100):\n",
    "    loss_list = []\n",
    "    for step, (inputs, _y) in enumerate(dataset.take(training_steps + 1)):\n",
    "        with tf.GradientTape() as g:\n",
    "            z_k, e_0, _z_log_sigma_0, _z_sigmas2 = maf.inference(inputs)\n",
    "            \n",
    "            z_k_i, e_0, _z_log_sigma_0, _z_sigmas = iaf.inference(inputs)\n",
    "            \n",
    "            x_hat, _z_sigmas = iaf.generation(z_k_i) # 不计算会说有些没有训练到，故而注释掉\n",
    "            \n",
    "            iaf_loss = iaf.flow_loss(inputs, x_hat, e_0, _z_log_sigma_0, _z_sigmas, z_k_i)\n",
    "            \n",
    "            # CAF eq 20。最后一层的sigma，代表z自身的熵 \n",
    "            H_z = tf.reduce_mean(np.log(2*math.pi * _z_sigmas[-1]))\n",
    "            # CAF eq 21。maf和iaf生成的熵\n",
    "            \n",
    "            # 交叉熵最好先做归一化，如果不归一化，这里的z的预测会急剧变成全负数。目前考虑的是用sigmoid\n",
    "            # 在正常训练中没有出现，是因为会保证其z约束在正态分布上。联合训练也会负，但是不快\n",
    "            z_k = tf.math.sigmoid(z_k)\n",
    "            z_k_i = tf.math.sigmoid(z_k_i)\n",
    "            H_maf_iaf = tf.reduce_mean(tf.keras.metrics.binary_crossentropy(z_k_i, z_k))\n",
    "            \n",
    "            loss =  H_z + H_maf_iaf + iaf_loss\n",
    "            # 使用联合训练，iaf的loss下降很快，这里可以加入和直接iaf训练的对比图。因为求导的性质，也不需要担心对各个loss的减小的性能\n",
    "            loss_list.append(iaf_loss)\n",
    "        if step % display_step == 0:\n",
    "            print(\"step: %i, H_z: %f, H_maf_iaf: %f, iaf_loss: %f\" % (step, H_z, H_maf_iaf, iaf_loss))\n",
    "        gradients = g.gradient(loss, iaf.variables)\n",
    "        optimizer.apply_gradients(grads_and_vars=zip(gradients, iaf.variables))\n",
    "    return loss_list"
   ]
  },
  {
   "cell_type": "code",
   "execution_count": 13,
   "metadata": {},
   "outputs": [],
   "source": [
    "user_iaf = IAF(original_size=hottest, latent_dim=latent_dim, num_flow=num_flow)\n",
    "optimizer = tf.keras.optimizers.Adam(learning_rate=learning_rate)"
   ]
  },
  {
   "cell_type": "code",
   "execution_count": 14,
   "metadata": {},
   "outputs": [
    {
     "name": "stdout",
     "output_type": "stream",
     "text": [
      "step: 0, H_z: 1.350573, H_maf_iaf: 0.733752, iaf_loss: 86918.046875\n",
      "step: 300, H_z: 1.393090, H_maf_iaf: 0.733307, iaf_loss: 8431.243164\n",
      "step: 600, H_z: 1.403063, H_maf_iaf: 0.714638, iaf_loss: 3321.378174\n",
      "step: 900, H_z: 1.407569, H_maf_iaf: 0.706509, iaf_loss: 1828.402100\n",
      "step: 1200, H_z: 1.409690, H_maf_iaf: 0.710369, iaf_loss: 1239.834473\n",
      "step: 1500, H_z: 1.410833, H_maf_iaf: 0.716516, iaf_loss: 966.113403\n",
      "step: 1800, H_z: 1.411638, H_maf_iaf: 0.709799, iaf_loss: 790.609741\n",
      "step: 2100, H_z: 1.412670, H_maf_iaf: 0.718951, iaf_loss: 684.324524\n",
      "step: 2400, H_z: 1.414901, H_maf_iaf: 0.712560, iaf_loss: 623.581482\n",
      "step: 2700, H_z: 1.416591, H_maf_iaf: 0.711645, iaf_loss: 564.573608\n",
      "step: 3000, H_z: 1.418636, H_maf_iaf: 0.709731, iaf_loss: 532.642761\n"
     ]
    },
    {
     "data": {
      "text/plain": [
       "<matplotlib.axes._subplots.AxesSubplot at 0x2a06ee4adc8>"
      ]
     },
     "execution_count": 14,
     "metadata": {},
     "output_type": "execute_result"
    },
    {
     "data": {
      "image/png": "[encoded data removed]",
      "text/plain": [
       "<Figure size 432x288 with 1 Axes>"
      ]
     },
     "metadata": {
      "needs_background": "light"
     },
     "output_type": "display_data"
    }
   ],
   "source": [
    "training_steps = 3000\n",
    "display_step = 300\n",
    "loss_list = train_iaf_with_trained_maf(user_iaf, user_maf, dataset=user_data, optimizer=optimizer, \n",
    "                                       training_steps=training_steps, display_step=display_step)\n",
    "\n",
    "p = pd.DataFrame(loss_list)\n",
    "p.plot()"
   ]
  },
  {
   "cell_type": "code",
   "execution_count": 15,
   "metadata": {},
   "outputs": [
    {
     "name": "stdout",
     "output_type": "stream",
     "text": [
      "WARNING:tensorflow:Skipping full serialization of Keras model <flows.IAF object at 0x0000029F59CD4E48>, because its inputs are not defined.\n",
      "INFO:tensorflow:Assets written to: E:\\projects\\recommend system\\recommend by normalizing flow\\128dim_sigmoid_BinaryCrossentropy_64_3000_64_7\\user_iaf\\assets\n"
     ]
    }
   ],
   "source": [
    "save_load(op='save', model=user_iaf, obj='user', model_type='iaf', \n",
    "          hyperparameter=[latent_dim, training_steps, batch_size, num_flow], path=saving_path)"
   ]
  },
  {
   "cell_type": "code",
   "execution_count": 16,
   "metadata": {},
   "outputs": [],
   "source": [
    "item_iaf = IAF(original_size=hottest, latent_dim=latent_dim, num_flow=num_flow)\n",
    "optimizer = tf.keras.optimizers.Adam(learning_rate=learning_rate)"
   ]
  },
  {
   "cell_type": "code",
   "execution_count": 17,
   "metadata": {},
   "outputs": [
    {
     "name": "stdout",
     "output_type": "stream",
     "text": [
      "step: 0, H_z: 1.348462, H_maf_iaf: 0.720234, iaf_loss: 77831.750000\n",
      "step: 300, H_z: 1.382027, H_maf_iaf: 0.715748, iaf_loss: 7504.224121\n",
      "step: 600, H_z: 1.393694, H_maf_iaf: 0.711738, iaf_loss: 2699.046631\n",
      "step: 900, H_z: 1.397747, H_maf_iaf: 0.707977, iaf_loss: 1500.600830\n",
      "step: 1200, H_z: 1.401913, H_maf_iaf: 0.707205, iaf_loss: 1043.592285\n",
      "step: 1500, H_z: 1.404045, H_maf_iaf: 0.707040, iaf_loss: 804.571533\n",
      "step: 1800, H_z: 1.406213, H_maf_iaf: 0.709514, iaf_loss: 692.491516\n",
      "step: 2100, H_z: 1.408871, H_maf_iaf: 0.709143, iaf_loss: 582.363037\n",
      "step: 2400, H_z: 1.410762, H_maf_iaf: 0.709410, iaf_loss: 542.290649\n",
      "step: 2700, H_z: 1.413872, H_maf_iaf: 0.706365, iaf_loss: 483.676575\n",
      "step: 3000, H_z: 1.415968, H_maf_iaf: 0.706537, iaf_loss: 461.573669\n"
     ]
    },
    {
     "data": {
      "text/plain": [
       "<matplotlib.axes._subplots.AxesSubplot at 0x29eb6784948>"
      ]
     },
     "execution_count": 17,
     "metadata": {},
     "output_type": "execute_result"
    },
    {
     "data": {
      "image/png": "[encoded data removed]",
      "text/plain": [
       "<Figure size 432x288 with 1 Axes>"
      ]
     },
     "metadata": {
      "needs_background": "light"
     },
     "output_type": "display_data"
    }
   ],
   "source": [
    "training_steps = 3000\n",
    "display_step = 300\n",
    "loss_list = train_iaf_with_trained_maf(item_iaf, item_maf, dataset=item_data, optimizer=optimizer, \n",
    "                                       training_steps=training_steps, display_step=display_step)\n",
    "\n",
    "p = pd.DataFrame(loss_list)\n",
    "p.plot()"
   ]
  },
  {
   "cell_type": "code",
   "execution_count": 18,
   "metadata": {},
   "outputs": [
    {
     "name": "stdout",
     "output_type": "stream",
     "text": [
      "WARNING:tensorflow:Skipping full serialization of Keras model <flows.IAF object at 0x000002A0DD8B7988>, because its inputs are not defined.\n",
      "INFO:tensorflow:Assets written to: E:\\projects\\recommend system\\recommend by normalizing flow\\128dim_sigmoid_BinaryCrossentropy_64_3000_64_7\\item_iaf\\assets\n"
     ]
    }
   ],
   "source": [
    "save_load(op='save', model=item_iaf, obj='item', model_type='iaf', \n",
    "          hyperparameter=[latent_dim, training_steps, batch_size, num_flow], path=saving_path)"
   ]
  },
  {
   "cell_type": "code",
   "execution_count": 7,
   "metadata": {},
   "outputs": [],
   "source": [
    "user_iaf = save_load(op='load', model=None, obj='user', model_type='iaf', \n",
    "          hyperparameter=[latent_dim, training_steps, batch_size, num_flow], path=saving_path)\n",
    "item_iaf = save_load(op='load', model=None, obj='item', model_type='iaf', \n",
    "          hyperparameter=[latent_dim, training_steps, batch_size, num_flow], path=saving_path)"
   ]
  },
  {
   "cell_type": "markdown",
   "metadata": {},
   "source": [
    "# RS部分"
   ]
  },
  {
   "cell_type": "markdown",
   "metadata": {},
   "source": [
    "这里是准备标签，标签是训练的时候决定的"
   ]
  },
  {
   "cell_type": "code",
   "execution_count": 19,
   "metadata": {},
   "outputs": [],
   "source": [
    "user_tag = pd.read_table(dataset_path + \"\\\\user_taggedartists.dat\")\n",
    "user_original_id = user_tag.drop_duplicates(subset='userID', keep='first', inplace=False).reset_index(drop=True)\n",
    "item_original_id = user_tag.drop_duplicates(subset='artistID', keep='first', inplace=False).reset_index(drop=True)\n",
    "\n",
    "user_artists = pd.read_table(dataset_path + \"\\\\user_artists.dat\")\n",
    "user_artists_grouped = user_artists.groupby('userID').groups\n",
    "\n",
    "def get_y_true(x_id, y_id, batch_size):\n",
    "    label = np.zeros(shape=(batch_size, batch_size))\n",
    "    for x in x_id.numpy():\n",
    "        x = int(x)\n",
    "        origin_user_id = user_original_id.iloc[x]['userID']\n",
    "    \n",
    "        for y in y_id.numpy():\n",
    "            y = int(y)\n",
    "            origin_item_id = item_original_id.iloc[y]['artistID']\n",
    "        \n",
    "            # 找到这个user是否有订阅这个item\n",
    "            if origin_item_id in user_artists_grouped[origin_user_id].values:\n",
    "                label[x%batch_size][y%batch_size] = 1\n",
    "    # label[x][y] 表示 user x 对 y 的兴趣程度。每次输入都是一个batch，所以label取余就可以得到正确的xy坐标\n",
    "    return label.astype(np.float32)"
   ]
  },
  {
   "cell_type": "code",
   "execution_count": 20,
   "metadata": {},
   "outputs": [],
   "source": [
    "class RS(tf.keras.Model):\n",
    "    def __init__(self, input_size, output_size=256, num_nn=4):\n",
    "        \"\"\"\n",
    "        input_size是user和item叠加在一起的形状，batch_size * 2latent_dim\n",
    "        output_size是user和item的交互信息，batch_size * batch_size\n",
    "        \"\"\"\n",
    "        super().__init__()\n",
    "        self.input_size = input_size\n",
    "        self.output_size = output_size\n",
    "        self.num_nn = num_nn\n",
    "        \n",
    "        self.dense = []\n",
    "        for i in range(self.num_nn):\n",
    "            self.dense.append(Dense(units=self.output_size, activation=tf.nn.leaky_relu))\n",
    "            \n",
    "        self.out = Dense(units=self.output_size, activation=tf.nn.leaky_relu)\n",
    "        self.act = tf.nn.sigmoid\n",
    "        # 因为weighted_cross_entropy_with_logits里面会有sigmoid\n",
    "        self.matrics = tf.nn.weighted_cross_entropy_with_logits\n",
    "        # self.matrics = tf.keras.metrics.binary_crossentropy\n",
    "    \n",
    "    @tf.function\n",
    "    def call(self, inputs): \n",
    "        # inputs is [batch_size, 2latent_dim], outputs is [batch_size, batch_size]\n",
    "        for i in range(self.num_nn):\n",
    "            inputs = self.dense[i](inputs)\n",
    "            \n",
    "        outputs = self.out(inputs)\n",
    "        \n",
    "        return outputs\n",
    "    \n",
    "    @tf.function\n",
    "    def act(self, inputs): \n",
    "        self.act(inputs)\n",
    "        return self.act(inputs)\n",
    "    \n",
    "    @tf.function\n",
    "    def RSloss(self, y_true, y_pred, pos_weight=5):\n",
    "        y_pred = tf.keras.backend.flatten(y_pred)\n",
    "        y_true = tf.keras.backend.flatten(y_true)\n",
    "        # loss = tf.keras.metrics.binary_crossentropy(y_true, y_pred)\n",
    "        # 要提高召回率，即降低将1预测0的概率，提高将1预测成1的概率。pos_weight > 1\n",
    "        loss = self.matrics(labels=y_true,logits=y_pred, pos_weight=pos_weight)\n",
    "        \n",
    "        return tf.math.reduce_mean(loss)"
   ]
  },
  {
   "cell_type": "code",
   "execution_count": 21,
   "metadata": {},
   "outputs": [],
   "source": [
    "num_nn = 5\n",
    "rs = RS(input_size=latent_dim*2, output_size=batch_size, num_nn=num_nn)"
   ]
  },
  {
   "cell_type": "code",
   "execution_count": 22,
   "metadata": {},
   "outputs": [],
   "source": [
    "learning_rate = 0.0001\n",
    "training_steps = 3000\n",
    "display_step = 300\n",
    "optimizer = tf.keras.optimizers.Adam(learning_rate=learning_rate)"
   ]
  },
  {
   "cell_type": "code",
   "execution_count": 24,
   "metadata": {},
   "outputs": [
    {
     "name": "stdout",
     "output_type": "stream",
     "text": [
      "step: 0, loss: 319256.500000\n",
      "step: 300, loss: 33425.039062\n",
      "step: 600, loss: 1339.435059\n",
      "step: 900, loss: 1138.825562\n",
      "step: 1200, loss: 1137.903564\n",
      "step: 1500, loss: 1443.671753\n",
      "step: 1800, loss: 1113.817383\n",
      "step: 2100, loss: 9953.241211\n",
      "step: 2400, loss: 4515.781250\n",
      "step: 2700, loss: 1258.804810\n",
      "step: 3000, loss: 866.146484\n"
     ]
    },
    {
     "data": {
      "text/plain": [
       "<matplotlib.axes._subplots.AxesSubplot at 0x2a1cd15d248>"
      ]
     },
     "execution_count": 24,
     "metadata": {},
     "output_type": "execute_result"
    },
    {
     "data": {
      "image/png": "[encoded data removed]",
      "text/plain": [
       "<Figure size 432x288 with 1 Axes>"
      ]
     },
     "metadata": {
      "needs_background": "light"
     },
     "output_type": "display_data"
    }
   ],
   "source": [
    "a = enumerate(user_data.take(training_steps + 1))\n",
    "b = enumerate(item_data.take(training_steps + 1))\n",
    "loss_list = []\n",
    "for ((step, i), (step,j)) in zip(a, b):\n",
    "    with tf.GradientTape() as g:\n",
    "        (user, x_id) = i\n",
    "        (item, y_id) = j\n",
    "    \n",
    "        user, e_0, _z_log_sigma_0, _z_sigmas = user_iaf.inference(user)\n",
    "        item, e_0, _z_log_sigma_0, _z_sigmas = item_iaf.inference(item)\n",
    "    \n",
    "        # 经过一番折腾得到最终的表示，batch_size * latent_dim，再叠起来得到 batch_size * 2latent_dim\n",
    "        conbine = tf.keras.backend.concatenate((user, item), axis=1)\n",
    "    \n",
    "        # 输出是 batch_size * batch_size\n",
    "        y_pred = rs.call(conbine)\n",
    "        y_pred_sigmoid = rs.act(y_pred)\n",
    "        \n",
    "        y_true = get_y_true(x_id, y_id, batch_size)\n",
    "    \n",
    "        loss = rs.RSloss(y_true, y_pred)\n",
    "        # todo\n",
    "        loss = loss*batch_size*batch_size*100\n",
    "        loss_list.append(loss)\n",
    "        if step % display_step == 0:\n",
    "            print(\"step: %i, loss: %f\" % (step, loss))\n",
    "            \n",
    "    gradients = g.gradient(loss, rs.variables)\n",
    "    optimizer.apply_gradients(grads_and_vars=zip(gradients, rs.variables))\n",
    "    \n",
    "p = pd.DataFrame(loss_list)\n",
    "p.plot()"
   ]
  },
  {
   "cell_type": "markdown",
   "metadata": {},
   "source": [
    "还没保存"
   ]
  },
  {
   "cell_type": "code",
   "execution_count": 25,
   "metadata": {},
   "outputs": [
    {
     "name": "stdout",
     "output_type": "stream",
     "text": [
      "WARNING:tensorflow:Skipping full serialization of Keras model <__main__.RS object at 0x000002A1CD042308>, because its inputs are not defined.\n",
      "INFO:tensorflow:Assets written to: E:\\projects\\recommend system\\recommend by normalizing flow\\128dim_sigmoid_BinaryCrossentropy_64_3000_64_7\\rs_rs\\assets\n"
     ]
    }
   ],
   "source": [
    "save_load(op='save', model=rs, obj='rs', model_type='rs', \n",
    "          hyperparameter=[latent_dim, training_steps, batch_size, num_flow], path=saving_path)"
   ]
  },
  {
   "cell_type": "markdown",
   "metadata": {},
   "source": [
    "真实数据太稀疏了，否则训练的label全是0\n",
    "\n",
    "1. 数据增强，将正向的数据反复进行训练\n",
    "2. 加强权重。weighted_cross_entropy_with_logits\n",
    "\n",
    "\n",
    "训练好了再用其他方法来检测推荐准确度。\n",
    "\n",
    "数据集中有联系的，基本上应该都能预测出来，但是没有的，也会预测出来，这里就涉及到了真假阳性的问题了，应该和训练时间也有关系，过拟合了就肯定有问题。"
   ]
  },
  {
   "cell_type": "markdown",
   "metadata": {},
   "source": [
    "# evaluate\n",
    "\n",
    "a>=threshold 的都是检测出来positive，y_true==1 的都是true。\n",
    "\n",
    "但是按照推荐系统的理念，P应该要更多才符合标准\n",
    "\n",
    "即user没有标，但是系统标了 FP 大，TP 大。\n",
    "\n",
    "反之，不能将别人认为感兴趣的标成N，即FN要小。\n",
    "\n",
    "同理，TN要大，将别人不感兴趣的标成不感兴趣的。\n",
    "\n",
    "FP就是需要推荐的内容。"
   ]
  },
  {
   "cell_type": "code",
   "execution_count": 26,
   "metadata": {},
   "outputs": [],
   "source": [
    "def evaluate(rs_model, training_steps, TP, FP, TN, FN, user_data, item_data, threshold=0.0001):\n",
    "    a = enumerate(user_data.take(training_steps))\n",
    "    b = enumerate(item_data.take(training_steps))\n",
    "    for ((step, i), (step,j)) in zip(a, b):\n",
    "        (user, x_id) = i\n",
    "        (item, y_id) = j\n",
    "        user, e_0, _z_log_sigma_0, _z_sigmas = user_iaf.inference(user)\n",
    "        item, e_0, _z_log_sigma_0, _z_sigmas = item_iaf.inference(item)\n",
    "        conbine = tf.keras.backend.concatenate((user, item), axis=1)\n",
    "        \n",
    "        # 输出是 batch_size * batch_size\n",
    "        y_pred = rs_model.call(conbine)\n",
    "        y_pred_sigmoid = rs_model.act(y_pred)\n",
    "        \n",
    "        y_true = get_y_true(x_id, y_id, batch_size)\n",
    "    \n",
    "        XP = y_true[y_pred_sigmoid>=threshold]  # 预测出来是 positive 的数量\n",
    "        XN = y_true[y_pred_sigmoid<threshold]  # 预测出来是 negative 的数量\n",
    "    \n",
    "        TP += np.sum(XP) # 预测出来是positive，实际上是true的数量\n",
    "        FP += XP.shape[0] - np.sum(XP)\n",
    "        # 预测0，但是实际是1，即为FN\n",
    "        FN += np.sum(XN)\n",
    "        TN += XN.shape[0] - np.sum(XN)\n",
    "    \n",
    "    return TP, FP, TN, FN"
   ]
  },
  {
   "cell_type": "code",
   "execution_count": 27,
   "metadata": {},
   "outputs": [],
   "source": [
    "threshold = 0.0001\n",
    "training_steps = 5000\n",
    "\n",
    "TP = FP = TN = FN = 0"
   ]
  },
  {
   "cell_type": "code",
   "execution_count": 28,
   "metadata": {},
   "outputs": [
    {
     "name": "stdout",
     "output_type": "stream",
     "text": [
      "Precision:0.000523, Recall:0.999627, F1:0.001046\n",
      "TP:10710.000000, FP:20462854.000000, TN:6432.000000, FN:4.000000。    参考，前三大，FN小\n"
     ]
    }
   ],
   "source": [
    "TP, FP, TN, FN = evaluate(rs, training_steps, TP, FP, TN, FN, user_data, item_data, threshold=0.0001)\n",
    "Precision = TP / (TP + FP)\n",
    "Recall = TP / (TP + FN)\n",
    "F1 = 2*Precision*Recall/ (Precision+Recall)\n",
    "print(\"Precision:%f, Recall:%f, F1:%f\" %(Precision, Recall, F1))\n",
    "print(\"TP:%d, FP:%d, FN:%d, TN:%d。    参考，FP和TP接近甚至更小，FN尽量小\"%(TP, FP, FN, TN))"
   ]
  },
  {
   "cell_type": "markdown",
   "metadata": {},
   "source": [
    "看出系统倾向于标正类，导致精确度特别低,所以，提高衡量标准看看"
   ]
  },
  {
   "cell_type": "code",
   "execution_count": 30,
   "metadata": {},
   "outputs": [
    {
     "name": "stdout",
     "output_type": "stream",
     "text": [
      "Precision:0.000523, Recall:1.000000, F1:0.001046\n",
      "TP:10714, FP:20466839, FN:0, TN:2447。    参考，FP和TP接近甚至更小，FN尽量小\n"
     ]
    }
   ],
   "source": [
    "threshold = 0.000075\n",
    "training_steps = 5000\n",
    "\n",
    "TP = FP = TN = FN = 0\n",
    "\n",
    "TP, FP, TN, FN = evaluate(rs, training_steps, TP, FP, TN, FN, user_data, item_data, threshold=threshold)\n",
    "\n",
    "Precision = TP / (TP + FP)\n",
    "Recall = TP / (TP + FN)\n",
    "F1 = 2*Precision*Recall/ (Precision+Recall)\n",
    "print(\"Precision:%f, Recall:%f, F1:%f\" %(Precision, Recall, F1))\n",
    "print(\"TP:%d, FP:%d, FN:%d, TN:%d。    参考，FP和TP接近甚至更小，FN尽量小\"%(TP, FP, FN, TN))"
   ]
  },
  {
   "cell_type": "code",
   "execution_count": 31,
   "metadata": {},
   "outputs": [
    {
     "name": "stdout",
     "output_type": "stream",
     "text": [
      "Precision:0.000523, Recall:1.000000, F1:0.001046\n",
      "TP:10714, FP:20469044, FN:0, TN:242。    参考，FP和TP接近甚至更小，FN尽量小\n"
     ]
    }
   ],
   "source": [
    "threshold = 0.00005\n",
    "training_steps = 5000\n",
    "\n",
    "TP = FP = TN = FN = 0\n",
    "\n",
    "TP, FP, TN, FN = evaluate(rs, training_steps, TP, FP, TN, FN, user_data, item_data, threshold=threshold)\n",
    "\n",
    "Precision = TP / (TP + FP)\n",
    "Recall = TP / (TP + FN)\n",
    "F1 = 2*Precision*Recall/ (Precision+Recall)\n",
    "print(\"Precision:%f, Recall:%f, F1:%f\" %(Precision, Recall, F1))\n",
    "print(\"TP:%d, FP:%d, FN:%d, TN:%d。    参考，FP和TP接近甚至更小，FN尽量小\"%(TP, FP, FN, TN))"
   ]
  },
  {
   "cell_type": "markdown",
   "metadata": {},
   "source": [
    "不断提高的阈值的结果是精确度下降很少，但是recall下降特别快。我的目的是降低FP，即尽量不要推荐太多东西，但是同时，FN又上升太快了，TP下降FN上升，recall就下降很快"
   ]
  },
  {
   "cell_type": "code",
   "execution_count": null,
   "metadata": {},
   "outputs": [],
   "source": []
  },
  {
   "cell_type": "code",
   "execution_count": null,
   "metadata": {},
   "outputs": [],
   "source": []
  }
 ],
 "metadata": {
  "kernelspec": {
   "display_name": "Python 3",
   "language": "python",
   "name": "python3"
  },
  "language_info": {
   "codemirror_mode": {
    "name": "ipython",
    "version": 3
   },
   "file_extension": ".py",
   "mimetype": "text/x-python",
   "name": "python",
   "nbconvert_exporter": "python",
   "pygments_lexer": "ipython3",
   "version": "3.7.4"
  },
  "toc": {
   "base_numbering": 1,
   "nav_menu": {},
   "number_sections": true,
   "sideBar": true,
   "skip_h1_title": false,
   "title_cell": "Table of Contents",
   "title_sidebar": "Contents",
   "toc_cell": false,
   "toc_position": {},
   "toc_section_display": true,
   "toc_window_display": false
  }
 },
 "nbformat": 4,
 "nbformat_minor": 2
}
